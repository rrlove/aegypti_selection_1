{
 "cells": [
  {
   "cell_type": "markdown",
   "metadata": {},
   "source": [
    "##### Figure S9: visualizing sweepfinder outlier windows near the histone cluster near 340 Mb on chrom 3"
   ]
  },
  {
   "cell_type": "code",
   "execution_count": 1,
   "metadata": {},
   "outputs": [],
   "source": [
    "from matplotlib import colors\n",
    "import matplotlib.pyplot as plt\n",
    "import matplotlib.patches as patches\n",
    "import numpy as np\n",
    "import pandas as pd\n",
    "\n",
    "import itertools\n",
    "\n",
    "import ingenos"
   ]
  },
  {
   "cell_type": "code",
   "execution_count": 2,
   "metadata": {},
   "outputs": [],
   "source": [
    "base_path = \"/overflow/dschridelab/users/rrlove/aedes/\"\n",
    "results_path = f\"{base_path}results/\""
   ]
  },
  {
   "cell_type": "code",
   "execution_count": 3,
   "metadata": {},
   "outputs": [],
   "source": [
    "chroms = [\"AaegL5_1\", \"AaegL5_2\", \"AaegL5_3\"]\n",
    "countries = [\"Brazil\", \"Colombia\", \"Gabon\", \"Kenya\", \"Senegal\", \"USA\"]"
   ]
  },
  {
   "cell_type": "markdown",
   "metadata": {},
   "source": [
    "##### read in the genes, for plotting"
   ]
  },
  {
   "cell_type": "code",
   "execution_count": 4,
   "metadata": {},
   "outputs": [
    {
     "data": {
      "text/html": [
       "<div>\n",
       "<style scoped>\n",
       "    .dataframe tbody tr th:only-of-type {\n",
       "        vertical-align: middle;\n",
       "    }\n",
       "\n",
       "    .dataframe tbody tr th {\n",
       "        vertical-align: top;\n",
       "    }\n",
       "\n",
       "    .dataframe thead th {\n",
       "        text-align: right;\n",
       "    }\n",
       "</style>\n",
       "<table border=\"1\" class=\"dataframe\">\n",
       "  <thead>\n",
       "    <tr style=\"text-align: right;\">\n",
       "      <th></th>\n",
       "      <th>seqid</th>\n",
       "      <th>source</th>\n",
       "      <th>type</th>\n",
       "      <th>start</th>\n",
       "      <th>end</th>\n",
       "      <th>score</th>\n",
       "      <th>strand</th>\n",
       "      <th>phase</th>\n",
       "      <th>attributes</th>\n",
       "      <th>name</th>\n",
       "    </tr>\n",
       "  </thead>\n",
       "  <tbody>\n",
       "    <tr>\n",
       "      <th>0</th>\n",
       "      <td>AaegL5_3</td>\n",
       "      <td>VEuPathDB</td>\n",
       "      <td>protein_coding_gene</td>\n",
       "      <td>157422094</td>\n",
       "      <td>157471671</td>\n",
       "      <td>.</td>\n",
       "      <td>-</td>\n",
       "      <td>.</td>\n",
       "      <td>ID=AAEL010223;description=phosphatidylserine d...</td>\n",
       "      <td>AAEL010223</td>\n",
       "    </tr>\n",
       "    <tr>\n",
       "      <th>1</th>\n",
       "      <td>AaegL5_3</td>\n",
       "      <td>VEuPathDB</td>\n",
       "      <td>mRNA</td>\n",
       "      <td>157422094</td>\n",
       "      <td>157436357</td>\n",
       "      <td>.</td>\n",
       "      <td>-</td>\n",
       "      <td>.</td>\n",
       "      <td>ID=AAEL010223-RB;Parent=AAEL010223;Note=4.1.1....</td>\n",
       "      <td>AAEL010223-RB</td>\n",
       "    </tr>\n",
       "    <tr>\n",
       "      <th>2</th>\n",
       "      <td>AaegL5_3</td>\n",
       "      <td>VEuPathDB</td>\n",
       "      <td>mRNA</td>\n",
       "      <td>157422094</td>\n",
       "      <td>157436356</td>\n",
       "      <td>.</td>\n",
       "      <td>-</td>\n",
       "      <td>.</td>\n",
       "      <td>ID=AAEL010223-RF;Parent=AAEL010223;Note=4.1.1....</td>\n",
       "      <td>AAEL010223-RF</td>\n",
       "    </tr>\n",
       "    <tr>\n",
       "      <th>3</th>\n",
       "      <td>AaegL5_3</td>\n",
       "      <td>VEuPathDB</td>\n",
       "      <td>mRNA</td>\n",
       "      <td>157422094</td>\n",
       "      <td>157436399</td>\n",
       "      <td>.</td>\n",
       "      <td>-</td>\n",
       "      <td>.</td>\n",
       "      <td>ID=AAEL010223-RD;Parent=AAEL010223;Note=4.1.1....</td>\n",
       "      <td>AAEL010223-RD</td>\n",
       "    </tr>\n",
       "    <tr>\n",
       "      <th>4</th>\n",
       "      <td>AaegL5_3</td>\n",
       "      <td>VEuPathDB</td>\n",
       "      <td>mRNA</td>\n",
       "      <td>157422094</td>\n",
       "      <td>157471670</td>\n",
       "      <td>.</td>\n",
       "      <td>-</td>\n",
       "      <td>.</td>\n",
       "      <td>ID=AAEL010223-RE;Parent=AAEL010223;Note=4.1.1....</td>\n",
       "      <td>AAEL010223-RE</td>\n",
       "    </tr>\n",
       "  </tbody>\n",
       "</table>\n",
       "</div>"
      ],
      "text/plain": [
       "      seqid     source                 type      start        end score  \\\n",
       "0  AaegL5_3  VEuPathDB  protein_coding_gene  157422094  157471671     .   \n",
       "1  AaegL5_3  VEuPathDB                 mRNA  157422094  157436357     .   \n",
       "2  AaegL5_3  VEuPathDB                 mRNA  157422094  157436356     .   \n",
       "3  AaegL5_3  VEuPathDB                 mRNA  157422094  157436399     .   \n",
       "4  AaegL5_3  VEuPathDB                 mRNA  157422094  157471670     .   \n",
       "\n",
       "  strand phase                                         attributes  \\\n",
       "0      -     .  ID=AAEL010223;description=phosphatidylserine d...   \n",
       "1      -     .  ID=AAEL010223-RB;Parent=AAEL010223;Note=4.1.1....   \n",
       "2      -     .  ID=AAEL010223-RF;Parent=AAEL010223;Note=4.1.1....   \n",
       "3      -     .  ID=AAEL010223-RD;Parent=AAEL010223;Note=4.1.1....   \n",
       "4      -     .  ID=AAEL010223-RE;Parent=AAEL010223;Note=4.1.1....   \n",
       "\n",
       "            name  \n",
       "0     AAEL010223  \n",
       "1  AAEL010223-RB  \n",
       "2  AAEL010223-RF  \n",
       "3  AAEL010223-RD  \n",
       "4  AAEL010223-RE  "
      ]
     },
     "execution_count": 4,
     "metadata": {},
     "output_type": "execute_result"
    }
   ],
   "source": [
    "gff3 = pd.read_table(f\"{base_path}refs/aegy/VectorBase-54_AaegyptiLVP_AGWG.gff\",\n",
    "                     sep=\"\\t\", comment=\"#\", header=None)\n",
    "\n",
    "gff3.columns = [\"seqid\", \"source\", \"type\", \"start\", \"end\", \"score\", \"strand\",\n",
    "               \"phase\", \"attributes\"]\n",
    "\n",
    "gff3[\"name\"] = gff3[\"attributes\"].str.split(\";\", expand=True)[0].str.lstrip(\"ID=\")\n",
    "\n",
    "gff3.head()"
   ]
  },
  {
   "cell_type": "code",
   "execution_count": 5,
   "metadata": {},
   "outputs": [
    {
     "data": {
      "text/plain": [
       "(14718, 10)"
      ]
     },
     "execution_count": 5,
     "metadata": {},
     "output_type": "execute_result"
    }
   ],
   "source": [
    "genes = gff3.loc[gff3[\"type\"] == \"protein_coding_gene\"]\n",
    "\n",
    "genes.shape"
   ]
  },
  {
   "cell_type": "markdown",
   "metadata": {},
   "source": [
    "##### read in the sweepfinder outliers"
   ]
  },
  {
   "cell_type": "code",
   "execution_count": 6,
   "metadata": {},
   "outputs": [],
   "source": [
    "outliers_dict = {}\n",
    "\n",
    "for country in countries:\n",
    "    \n",
    "    in_path = \\\n",
    "    f\"{results_path}sweepfinder/genes/gowinda_inputs/{country}/{country}_99pct_outliers.121322.csv\"\n",
    "        \n",
    "    threshold = \"99\"\n",
    "    \n",
    "    in_table = pd.read_table(\n",
    "        in_path, header=None, skiprows=1,\n",
    "        names = [\"chrom\", \"location\", \"LR\", \"alpha\", \"country\"])\n",
    "        \n",
    "    in_table[\"country\"] = country\n",
    "\n",
    "    in_table[\"threshold\"] = threshold\n",
    "\n",
    "    in_table[\"location\"] = in_table[\"location\"].map(int)\n",
    "\n",
    "    in_table[\"LR\"] = in_table[\"LR\"].map(float)\n",
    "\n",
    "    outliers_dict[country] = in_table"
   ]
  },
  {
   "cell_type": "markdown",
   "metadata": {},
   "source": [
    "##### plot outliers near the histone genes on chromosme 3, and all nearby genes"
   ]
  },
  {
   "cell_type": "code",
   "execution_count": 7,
   "metadata": {},
   "outputs": [],
   "source": [
    "row_1_starts = itertools.cycle([0.05, 0.12, 0.19])\n",
    "\n",
    "row_2_starts = itertools.cycle([0.55, 0.62, 0.69])\n",
    "\n",
    "cmap = plt.get_cmap(\"tab10\")"
   ]
  },
  {
   "cell_type": "code",
   "execution_count": 8,
   "metadata": {},
   "outputs": [
    {
     "data": {
      "text/plain": [
       "'/overflow/dschridelab/users/rrlove/aedes/results/popgen/chrom_3_histone_sweep.020923.pdf'"
      ]
     },
     "execution_count": 8,
     "metadata": {},
     "output_type": "execute_result"
    }
   ],
   "source": [
    "outString = ingenos.make_date_stamp(\n",
    "    results_path + \"popgen/chrom_3_histone_sweep\", \".pdf\")\n",
    "\n",
    "outString"
   ]
  },
  {
   "cell_type": "code",
   "execution_count": 9,
   "metadata": {},
   "outputs": [
    {
     "data": {
      "image/png": "[encoded data removed]",
      "text/plain": [
       "<Figure size 1296x648 with 7 Axes>"
      ]
     },
     "metadata": {
      "needs_background": "light"
     },
     "output_type": "display_data"
    }
   ],
   "source": [
    "fig, axes = plt.subplots(nrows=7, ncols=1, figsize=(18,9), \n",
    "                         sharex=\"col\")\n",
    "\n",
    "chrom = \"AaegL5_3\"\n",
    "\n",
    "for i, country in enumerate(countries):\n",
    "        \n",
    "    df = outliers_dict[country]\n",
    "                \n",
    "    ax = axes[i]\n",
    "\n",
    "    chunk = df.loc[df[\"chrom\"] == chrom]\n",
    "    \n",
    "    ax.set_xlim(340500000, 342500000)\n",
    "    \n",
    "    ax.set_ylim(0, 300)\n",
    "\n",
    "    ax.plot(chunk[\"location\"], chunk[\"LR\"], marker=\"o\", \n",
    "            linestyle = \" \", markersize=2)\n",
    "    \n",
    "    ax.set_ylabel(\"Sweep\\n likelihood\\n ratio\", fontsize=15)\n",
    "    \n",
    "    if i == 0:\n",
    "        \n",
    "        ax.set_title(f\"{country}, AaegL5_3:340.5-342.5 Mb\", fontsize=15)\n",
    "    \n",
    "    else:\n",
    "        \n",
    "        ax.set_title(country, fontsize=15)\n",
    "    \n",
    "chunk = genes.loc[((genes[\"seqid\"] == \"AaegL5_3\")&\\\n",
    "                   (genes[\"start\"] > 335000000) &\\\n",
    "                     (genes[\"start\"] < 350000000))]\n",
    "\n",
    "for idx, row in chunk.sort_values(\"start\").iterrows():\n",
    "\n",
    "    gene_length = row[\"end\"] - row[\"start\"]\n",
    "        \n",
    "    if \"histone\" in row[\"attributes\"] or \"Histone\" in row[\"attributes\"]:\n",
    "\n",
    "        start = next(row_2_starts)\n",
    "        \n",
    "        rect = patches.Rectangle((row[\"start\"], start), gene_length, 0.3, \n",
    "                                 linewidth=1,\n",
    "                            edgecolor = colors.to_rgba(\"red\", 1), \n",
    "                                 facecolor = colors.to_rgba(\"white\", 0),\n",
    "                                hatch = \"\\\\\")                       \n",
    "    else:\n",
    "        \n",
    "        start = next(row_1_starts)\n",
    "\n",
    "        rect = patches.Rectangle((row[\"start\"], start), gene_length, 0.3, \n",
    "                                 linewidth=1,\n",
    "                            edgecolor = colors.to_rgba(\"black\", 1), \n",
    "                                 facecolor = colors.to_rgba(\"black\", 0.4))\n",
    " \n",
    "    axes[-1].add_patch(rect)\n",
    "\n",
    "axes[-1].get_yaxis().set_visible(False)\n",
    "axes[-1].spines[\"left\"].set_visible(False)\n",
    "axes[-1].spines[\"right\"].set_visible(False)\n",
    "axes[-1].spines[\"top\"].set_visible(False)\n",
    "axes[-1].set_xlabel(\"Position\", fontsize=15)\n",
    "\n",
    "plt.tight_layout()\n",
    "\n",
    "#plt.savefig(outString, bbox_inches=\"tight\")"
   ]
  },
  {
   "cell_type": "code",
   "execution_count": null,
   "metadata": {},
   "outputs": [],
   "source": []
  },
  {
   "cell_type": "code",
   "execution_count": null,
   "metadata": {},
   "outputs": [],
   "source": []
  },
  {
   "cell_type": "code",
   "execution_count": null,
   "metadata": {},
   "outputs": [],
   "source": []
  },
  {
   "cell_type": "code",
   "execution_count": null,
   "metadata": {},
   "outputs": [],
   "source": []
  }
 ],
 "metadata": {
  "kernelspec": {
   "display_name": "rrlove",
   "language": "python",
   "name": "rrlove"
  },
  "language_info": {
   "codemirror_mode": {
    "name": "ipython",
    "version": 3
   },
   "file_extension": ".py",
   "mimetype": "text/x-python",
   "name": "python",
   "nbconvert_exporter": "python",
   "pygments_lexer": "ipython3",
   "version": "3.8.5"
  }
 },
 "nbformat": 4,
 "nbformat_minor": 4
}
