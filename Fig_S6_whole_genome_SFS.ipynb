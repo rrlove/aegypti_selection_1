{
 "cells": [
  {
   "cell_type": "markdown",
   "metadata": {},
   "source": [
    "##### Figure S6: plots of the site frequency spectrum from each country"
   ]
  },
  {
   "cell_type": "code",
   "execution_count": 1,
   "metadata": {},
   "outputs": [],
   "source": [
    "import matplotlib.pyplot as plt\n",
    "import numpy as np\n",
    "import pandas as pd\n",
    "\n",
    "import allel\n",
    "import seaborn as sns\n",
    "\n",
    "import ingenos"
   ]
  },
  {
   "cell_type": "code",
   "execution_count": 2,
   "metadata": {},
   "outputs": [],
   "source": [
    "base_path = \"/overflow/dschridelab/users/rrlove/aedes/\"\n",
    "results_path = f\"{base_path}results/\"\n",
    "sweepfinder_path = \\\n",
    "f\"{results_path}sweepfinder/inputs/chunked_inputs/no_relatives/\""
   ]
  },
  {
   "cell_type": "markdown",
   "metadata": {},
   "source": [
    "##### read in the SF counts files"
   ]
  },
  {
   "cell_type": "code",
   "execution_count": 3,
   "metadata": {},
   "outputs": [],
   "source": [
    "countries = [\"Brazil\", \"Colombia\", \"USA\", \"Gabon\", \"Kenya\", \"Senegal\"]\n",
    "\n",
    "sfs_dict = {}\n",
    "\n",
    "for country in countries:\n",
    "    \n",
    "    inpath = \\\n",
    "    f\"{sweepfinder_path}SF2_whole_genome_{country}.111222.txt\"\n",
    "    \n",
    "    df = pd.read_table(inpath, header=0, \n",
    "                       names=[\"position\", \"count\",\"n_called\", \"folded\"],\n",
    "                       usecols=[\"position\", \"count\",\"n_called\"])\n",
    "    \n",
    "    df = df.loc[df[\"count\"] > 0]\n",
    "    \n",
    "    df[\"freq\"] = df[\"count\"] / df[\"n_called\"]\n",
    "    \n",
    "    sfs_dict[country] = df"
   ]
  },
  {
   "cell_type": "code",
   "execution_count": 4,
   "metadata": {},
   "outputs": [
    {
     "data": {
      "text/html": [
       "<div>\n",
       "<style scoped>\n",
       "    .dataframe tbody tr th:only-of-type {\n",
       "        vertical-align: middle;\n",
       "    }\n",
       "\n",
       "    .dataframe tbody tr th {\n",
       "        vertical-align: top;\n",
       "    }\n",
       "\n",
       "    .dataframe thead th {\n",
       "        text-align: right;\n",
       "    }\n",
       "</style>\n",
       "<table border=\"1\" class=\"dataframe\">\n",
       "  <thead>\n",
       "    <tr style=\"text-align: right;\">\n",
       "      <th></th>\n",
       "      <th>position</th>\n",
       "      <th>count</th>\n",
       "      <th>n_called</th>\n",
       "      <th>freq</th>\n",
       "    </tr>\n",
       "  </thead>\n",
       "  <tbody>\n",
       "    <tr>\n",
       "      <th>0</th>\n",
       "      <td>8800</td>\n",
       "      <td>2</td>\n",
       "      <td>34</td>\n",
       "      <td>0.058824</td>\n",
       "    </tr>\n",
       "    <tr>\n",
       "      <th>8</th>\n",
       "      <td>8847</td>\n",
       "      <td>1</td>\n",
       "      <td>34</td>\n",
       "      <td>0.029412</td>\n",
       "    </tr>\n",
       "    <tr>\n",
       "      <th>17</th>\n",
       "      <td>8880</td>\n",
       "      <td>1</td>\n",
       "      <td>34</td>\n",
       "      <td>0.029412</td>\n",
       "    </tr>\n",
       "    <tr>\n",
       "      <th>19</th>\n",
       "      <td>8914</td>\n",
       "      <td>13</td>\n",
       "      <td>36</td>\n",
       "      <td>0.361111</td>\n",
       "    </tr>\n",
       "    <tr>\n",
       "      <th>21</th>\n",
       "      <td>8936</td>\n",
       "      <td>1</td>\n",
       "      <td>38</td>\n",
       "      <td>0.026316</td>\n",
       "    </tr>\n",
       "  </tbody>\n",
       "</table>\n",
       "</div>"
      ],
      "text/plain": [
       "    position  count  n_called      freq\n",
       "0       8800      2        34  0.058824\n",
       "8       8847      1        34  0.029412\n",
       "17      8880      1        34  0.029412\n",
       "19      8914     13        36  0.361111\n",
       "21      8936      1        38  0.026316"
      ]
     },
     "execution_count": 4,
     "metadata": {},
     "output_type": "execute_result"
    }
   ],
   "source": [
    "sfs_dict[country].head()"
   ]
  },
  {
   "cell_type": "code",
   "execution_count": 5,
   "metadata": {},
   "outputs": [
    {
     "data": {
      "text/plain": [
       "'/overflow/dschridelab/users/rrlove/aedes/results/sweepfinder/sfs_histogram_by_country.021123.pdf'"
      ]
     },
     "execution_count": 5,
     "metadata": {},
     "output_type": "execute_result"
    }
   ],
   "source": [
    "outstring = ingenos.make_date_stamp(\n",
    "    f\"{results_path}sweepfinder/sfs_histogram_by_country\",\n",
    "    \".pdf\")\n",
    "\n",
    "outstring"
   ]
  },
  {
   "cell_type": "code",
   "execution_count": 6,
   "metadata": {},
   "outputs": [
    {
     "name": "stdout",
     "output_type": "stream",
     "text": [
      "Brazil 7418232\n",
      "Colombia 8742356\n",
      "USA 10717486\n",
      "Gabon 16801669\n",
      "Kenya 22408701\n",
      "Senegal 16445705\n"
     ]
    },
    {
     "data": {
      "image/png": "[encoded data removed]",
      "text/plain": [
       "<Figure size 864x1296 with 6 Axes>"
      ]
     },
     "metadata": {
      "needs_background": "light"
     },
     "output_type": "display_data"
    }
   ],
   "source": [
    "fig, axes = plt.subplots(nrows=3, ncols=2, figsize=(12, 18),\n",
    "                        sharex=True)\n",
    "\n",
    "for i, (country, sfs) in enumerate(sfs_dict.items()):\n",
    "    \n",
    "    print(country, len(sfs))\n",
    "    \n",
    "    ax = axes.T.flatten()[i]\n",
    "    \n",
    "    sns.histplot(data=sfs[\"freq\"].values, ax=ax, binwidth=0.05)\n",
    "    ax.set_title(f\"{country}\", fontsize=20)\n",
    "    \n",
    "    if country in [\"USA\", \"Senegal\"]:\n",
    "        ax.set_xlabel(\"Variant allele frequency in sample\", fontsize=15)\n",
    "        \n",
    "    if country in [\"Brazil\", \"Colombia\", \"USA\"]:\n",
    "        ax.set_ylabel(\"# sites\", fontsize=15)\n",
    "        \n",
    "#plt.savefig(outstring, bbox_inches=\"tight\")"
   ]
  },
  {
   "cell_type": "code",
   "execution_count": null,
   "metadata": {},
   "outputs": [],
   "source": []
  },
  {
   "cell_type": "code",
   "execution_count": null,
   "metadata": {},
   "outputs": [],
   "source": []
  }
 ],
 "metadata": {
  "kernelspec": {
   "display_name": "rrlove",
   "language": "python",
   "name": "rrlove"
  },
  "language_info": {
   "codemirror_mode": {
    "name": "ipython",
    "version": 3
   },
   "file_extension": ".py",
   "mimetype": "text/x-python",
   "name": "python",
   "nbconvert_exporter": "python",
   "pygments_lexer": "ipython3",
   "version": "3.8.5"
  }
 },
 "nbformat": 4,
 "nbformat_minor": 4
}
