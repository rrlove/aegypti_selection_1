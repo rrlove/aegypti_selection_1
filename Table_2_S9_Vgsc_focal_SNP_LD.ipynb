{
 "cells": [
  {
   "cell_type": "markdown",
   "metadata": {},
   "source": [
    "##### Table 2 and Table S9: linkage disequilibrium between the focal SNPs within the Colombia and USA cohorts, respectively"
   ]
  },
  {
   "cell_type": "code",
   "execution_count": 1,
   "metadata": {},
   "outputs": [],
   "source": [
    "from collections import defaultdict\n",
    "import dask.array as da\n",
    "import numpy as np\n",
    "import pandas as pd\n",
    "from scipy.spatial.distance import squareform\n",
    "\n",
    "import allel\n",
    "\n",
    "import ingenos"
   ]
  },
  {
   "cell_type": "code",
   "execution_count": 2,
   "metadata": {},
   "outputs": [],
   "source": [
    "base_path = \"/overflow/dschridelab/users/rrlove/aedes/\"\n",
    "md_path = f\"{base_path}metadata/\"\n",
    "results_path = f\"{base_path}results/\"\n",
    "vcf_path = \"/proj/dschridelab/rrlove/aedes/vcf/\"\n",
    "zarr_path = \"/proj/dschridelab/rrlove/aedes/vcf/filtered_110122/\""
   ]
  },
  {
   "cell_type": "code",
   "execution_count": 3,
   "metadata": {},
   "outputs": [],
   "source": [
    "chroms = [\"AaegL5_1\", \"AaegL5_2\", \"AaegL5_3\"]\n",
    "countries = [\"Brazil\", \"Colombia\", \"USA\", \"Kenya\", \"Senegal\", \"Gabon\"]"
   ]
  },
  {
   "cell_type": "markdown",
   "metadata": {},
   "source": [
    "##### read in the data and metadata"
   ]
  },
  {
   "cell_type": "code",
   "execution_count": 4,
   "metadata": {},
   "outputs": [],
   "source": [
    "def return_data(zarr_path, data_type, data_name):\n",
    "    \n",
    "    fetch_str = f\"{data_type}/{data_name}\" \n",
    "    \n",
    "    return da.from_zarr(zarr_path, component=fetch_str)"
   ]
  },
  {
   "cell_type": "code",
   "execution_count": 5,
   "metadata": {},
   "outputs": [
    {
     "name": "stdout",
     "output_type": "stream",
     "text": [
      "AaegL5_3 (27660249, 131, 2)\n"
     ]
    }
   ],
   "source": [
    "chroms_dict = defaultdict(dict)\n",
    "\n",
    "for chrom in [\"AaegL5_3\"]:\n",
    "    \n",
    "    temp_in_path = zarr_path + chrom\n",
    "\n",
    "    chroms_dict[chrom][\"pos\"] = return_data(temp_in_path, \"variants\", \"POS\")\n",
    "    chroms_dict[chrom][\"chrom\"] = return_data(temp_in_path, \"variants\", \"CHROM\")\n",
    "    chroms_dict[chrom][\"ref\"] = return_data(temp_in_path, \"variants\", \"REF\")\n",
    "    chroms_dict[chrom][\"alt\"] = return_data(temp_in_path, \"variants\", \"ALT\")\n",
    "    chroms_dict[chrom][\"ac\"] = return_data(temp_in_path, \"variants\", \"AC\")\n",
    "    chroms_dict[chrom][\"qd\"] = return_data(temp_in_path, \"variants\", \"QD\")\n",
    "    chroms_dict[chrom][\"mq\"] = return_data(temp_in_path, \"variants\", \"MQ\")\n",
    "    chroms_dict[chrom][\"fs\"] = return_data(temp_in_path, \"variants\", \"FS\")\n",
    "    chroms_dict[chrom][\"mqrs\"] = return_data(temp_in_path, \"variants\", \"MQRankSum\")\n",
    "    chroms_dict[chrom][\"rprs\"] = return_data(temp_in_path, \"variants\", \"ReadPosRankSum\")\n",
    "    chroms_dict[chrom][\"sor\"] = return_data(temp_in_path, \"variants\", \"SOR\")\n",
    "    chroms_dict[chrom][\"is_snp\"] = return_data(temp_in_path, \"variants\", \"is_snp\")\n",
    "    chroms_dict[chrom][\"numalt\"] = return_data(temp_in_path, \"variants\", \"numalt\")\n",
    "    chroms_dict[chrom][\"filter_pass\"] = return_data(temp_in_path, \"variants\", \"FILTER_PASS\")\n",
    "\n",
    "    chroms_dict[chrom][\"gt\"] = return_data(temp_in_path, \"calldata\", \"GT\")\n",
    "    chroms_dict[chrom][\"gq\"] = return_data(temp_in_path, \"calldata\", \"GQ\")\n",
    "    chroms_dict[chrom][\"ad\"] = return_data(temp_in_path, \"calldata\", \"AD\")\n",
    "    chroms_dict[chrom][\"pl\"] = return_data(temp_in_path, \"calldata\", \"PL\")\n",
    "    chroms_dict[chrom][\"dp\"] = return_data(temp_in_path, \"calldata\", \"DP\")\n",
    "    \n",
    "    print(chrom, chroms_dict[chrom][\"gt\"].shape)\n",
    "    \n",
    "samples = da.from_zarr(temp_in_path, component=\"samples\")"
   ]
  },
  {
   "cell_type": "code",
   "execution_count": 6,
   "metadata": {},
   "outputs": [
    {
     "data": {
      "text/html": [
       "<div>\n",
       "<style scoped>\n",
       "    .dataframe tbody tr th:only-of-type {\n",
       "        vertical-align: middle;\n",
       "    }\n",
       "\n",
       "    .dataframe tbody tr th {\n",
       "        vertical-align: top;\n",
       "    }\n",
       "\n",
       "    .dataframe thead th {\n",
       "        text-align: right;\n",
       "    }\n",
       "</style>\n",
       "<table border=\"1\" class=\"dataframe\">\n",
       "  <thead>\n",
       "    <tr style=\"text-align: right;\">\n",
       "      <th></th>\n",
       "      <th>sample_id</th>\n",
       "      <th>sample_short</th>\n",
       "      <th>location</th>\n",
       "      <th>sex</th>\n",
       "      <th>batch</th>\n",
       "      <th>sample_id_cat</th>\n",
       "      <th>country</th>\n",
       "      <th>locality</th>\n",
       "    </tr>\n",
       "  </thead>\n",
       "  <tbody>\n",
       "    <tr>\n",
       "      <th>0</th>\n",
       "      <td>FEMALE_1-F1_CGCATGAT-TCAGGCTT_S1</td>\n",
       "      <td>FEMALE_1</td>\n",
       "      <td>Colombia: Rio Claro</td>\n",
       "      <td>F</td>\n",
       "      <td>1</td>\n",
       "      <td>FEMALE_1-F1_CGCATGAT-TCAGGCTT_S1</td>\n",
       "      <td>Colombia</td>\n",
       "      <td>Rio Claro</td>\n",
       "    </tr>\n",
       "    <tr>\n",
       "      <th>1</th>\n",
       "      <td>FEMALE_10-F10_GTGCCATA-ACTAGGAG_S2</td>\n",
       "      <td>FEMALE_10</td>\n",
       "      <td>Colombia: Rio Claro</td>\n",
       "      <td>F</td>\n",
       "      <td>1</td>\n",
       "      <td>FEMALE_10-F10_GTGCCATA-ACTAGGAG_S2</td>\n",
       "      <td>Colombia</td>\n",
       "      <td>Rio Claro</td>\n",
       "    </tr>\n",
       "    <tr>\n",
       "      <th>2</th>\n",
       "      <td>FEMALE_11-F11_CGTTGCAA-CGCTCTAT_S3</td>\n",
       "      <td>FEMALE_11</td>\n",
       "      <td>Colombia: Rio Claro</td>\n",
       "      <td>F</td>\n",
       "      <td>1</td>\n",
       "      <td>FEMALE_11-F11_CGTTGCAA-CGCTCTAT_S3</td>\n",
       "      <td>Colombia</td>\n",
       "      <td>Rio Claro</td>\n",
       "    </tr>\n",
       "    <tr>\n",
       "      <th>3</th>\n",
       "      <td>FEMALE_12-F12_TGAAGACG-TGGCATGT_S4</td>\n",
       "      <td>FEMALE_12</td>\n",
       "      <td>Colombia: Rio Claro</td>\n",
       "      <td>F</td>\n",
       "      <td>1</td>\n",
       "      <td>FEMALE_12-F12_TGAAGACG-TGGCATGT_S4</td>\n",
       "      <td>Colombia</td>\n",
       "      <td>Rio Claro</td>\n",
       "    </tr>\n",
       "    <tr>\n",
       "      <th>4</th>\n",
       "      <td>FEMALE_14-F14_ACGTTCAG-GCACAACT_S6</td>\n",
       "      <td>FEMALE_14</td>\n",
       "      <td>Colombia: Rio Claro</td>\n",
       "      <td>F</td>\n",
       "      <td>1</td>\n",
       "      <td>FEMALE_14-F14_ACGTTCAG-GCACAACT_S6</td>\n",
       "      <td>Colombia</td>\n",
       "      <td>Rio Claro</td>\n",
       "    </tr>\n",
       "  </tbody>\n",
       "</table>\n",
       "</div>"
      ],
      "text/plain": [
       "                            sample_id sample_short             location sex  \\\n",
       "0    FEMALE_1-F1_CGCATGAT-TCAGGCTT_S1     FEMALE_1  Colombia: Rio Claro   F   \n",
       "1  FEMALE_10-F10_GTGCCATA-ACTAGGAG_S2    FEMALE_10  Colombia: Rio Claro   F   \n",
       "2  FEMALE_11-F11_CGTTGCAA-CGCTCTAT_S3    FEMALE_11  Colombia: Rio Claro   F   \n",
       "3  FEMALE_12-F12_TGAAGACG-TGGCATGT_S4    FEMALE_12  Colombia: Rio Claro   F   \n",
       "4  FEMALE_14-F14_ACGTTCAG-GCACAACT_S6    FEMALE_14  Colombia: Rio Claro   F   \n",
       "\n",
       "  batch                       sample_id_cat   country   locality  \n",
       "0     1    FEMALE_1-F1_CGCATGAT-TCAGGCTT_S1  Colombia  Rio Claro  \n",
       "1     1  FEMALE_10-F10_GTGCCATA-ACTAGGAG_S2  Colombia  Rio Claro  \n",
       "2     1  FEMALE_11-F11_CGTTGCAA-CGCTCTAT_S3  Colombia  Rio Claro  \n",
       "3     1  FEMALE_12-F12_TGAAGACG-TGGCATGT_S4  Colombia  Rio Claro  \n",
       "4     1  FEMALE_14-F14_ACGTTCAG-GCACAACT_S6  Colombia  Rio Claro  "
      ]
     },
     "execution_count": 6,
     "metadata": {},
     "output_type": "execute_result"
    }
   ],
   "source": [
    "md = pd.read_table(\n",
    "    md_path + \"whole_sample_sorted_country.031522.csv\", \n",
    "    sep=\"\\t\",)\n",
    "\n",
    "md[\"locality\"] = md[\"location\"].str.split(\": \", expand=True)[1]\n",
    "\n",
    "md.head()"
   ]
  },
  {
   "cell_type": "code",
   "execution_count": 7,
   "metadata": {},
   "outputs": [
    {
     "data": {
      "text/plain": [
       "0"
      ]
     },
     "execution_count": 7,
     "metadata": {},
     "output_type": "execute_result"
    }
   ],
   "source": [
    "np.sum(~(md[\"sample_id\"] == samples.compute()))"
   ]
  },
  {
   "cell_type": "markdown",
   "metadata": {},
   "source": [
    "##### remove closely-related specimens"
   ]
  },
  {
   "cell_type": "code",
   "execution_count": 8,
   "metadata": {},
   "outputs": [
    {
     "data": {
      "text/plain": [
       "123"
      ]
     },
     "execution_count": 8,
     "metadata": {},
     "output_type": "execute_result"
    }
   ],
   "source": [
    "to_drop = np.loadtxt(md_path + \"close_kin_removed_new_dataset.txt\",\n",
    "                    dtype=str)\n",
    "\n",
    "to_drop_bool = (~(md[\"sample_short\"].isin(to_drop)).values)\n",
    "\n",
    "np.sum(to_drop_bool)"
   ]
  },
  {
   "cell_type": "code",
   "execution_count": 9,
   "metadata": {},
   "outputs": [
    {
     "data": {
      "text/plain": [
       "(123, 8)"
      ]
     },
     "execution_count": 9,
     "metadata": {},
     "output_type": "execute_result"
    }
   ],
   "source": [
    "md_filtered = md.loc[to_drop_bool]\n",
    "\n",
    "md_filtered.shape"
   ]
  },
  {
   "cell_type": "markdown",
   "metadata": {},
   "source": [
    "##### set up by-country filters"
   ]
  },
  {
   "cell_type": "code",
   "execution_count": 10,
   "metadata": {},
   "outputs": [
    {
     "data": {
      "text/plain": [
       "dict_keys(['Colombia', 'Kenya', 'Senegal', 'Gabon', 'Brazil', 'USA'])"
      ]
     },
     "execution_count": 10,
     "metadata": {},
     "output_type": "execute_result"
    }
   ],
   "source": [
    "country_bools = {}\n",
    "\n",
    "for country in md_filtered[\"country\"].unique():\n",
    "    \n",
    "    country_bools[country] = (md_filtered[\"country\"] == country).values\n",
    "    \n",
    "country_bools.keys()"
   ]
  },
  {
   "cell_type": "markdown",
   "metadata": {},
   "source": [
    "##### define and identify the loci in question"
   ]
  },
  {
   "cell_type": "code",
   "execution_count": 11,
   "metadata": {},
   "outputs": [
    {
     "data": {
      "text/plain": [
       "[315939224, 315983763, 315999297, 316014588, 316080722]"
      ]
     },
     "execution_count": 11,
     "metadata": {},
     "output_type": "execute_result"
    }
   ],
   "source": [
    "focal_snps = [315939224, 315983763, 315999297, 316014588, 316080722]\n",
    "\n",
    "focal_snps"
   ]
  },
  {
   "cell_type": "code",
   "execution_count": 12,
   "metadata": {},
   "outputs": [],
   "source": [
    "pos = chroms_dict[\"AaegL5_3\"][\"pos\"]"
   ]
  },
  {
   "cell_type": "markdown",
   "metadata": {},
   "source": [
    "##### also read in the bcftools genotypes for F1534C"
   ]
  },
  {
   "cell_type": "code",
   "execution_count": 13,
   "metadata": {},
   "outputs": [
    {
     "name": "stderr",
     "output_type": "stream",
     "text": [
      "/nas/longleaf/home/rrlove/.conda/envs/rrlove/lib/python3.8/site-packages/allel/io/vcf_read.py:1732: UserWarning: invalid INFO header: '##INFO=<ID=VDB,Number=1,Type=Float,Description=\"Variant Distance Bias for filtering splice-site artefacts in RNA-seq data (bigger is better)\",Version=\"3\">\\n'\n",
      "  warnings.warn('invalid INFO header: %r' % header)\n"
     ]
    }
   ],
   "source": [
    "vgsc_dict = allel.read_vcf(vcf_path + \"Vssc/AaegL5_3_Vssc_mpileup.vcf.gz\", \n",
    "                           fields = [\"calldata/GT\", \"calldata/GQ\", \"variants/CHROM\", \n",
    "                                     \"variants/POS\", \"variants/REF\", \"variants/ALT\", \n",
    "                                     \"samples\"])"
   ]
  },
  {
   "cell_type": "markdown",
   "metadata": {},
   "source": [
    "##### reorder the metadata to match the Vgsc vcf"
   ]
  },
  {
   "cell_type": "code",
   "execution_count": 14,
   "metadata": {},
   "outputs": [
    {
     "data": {
      "text/html": [
       "<div>\n",
       "<style scoped>\n",
       "    .dataframe tbody tr th:only-of-type {\n",
       "        vertical-align: middle;\n",
       "    }\n",
       "\n",
       "    .dataframe tbody tr th {\n",
       "        vertical-align: top;\n",
       "    }\n",
       "\n",
       "    .dataframe thead th {\n",
       "        text-align: right;\n",
       "    }\n",
       "</style>\n",
       "<table border=\"1\" class=\"dataframe\">\n",
       "  <thead>\n",
       "    <tr style=\"text-align: right;\">\n",
       "      <th></th>\n",
       "      <th>sample_id</th>\n",
       "      <th>sample_short</th>\n",
       "      <th>location</th>\n",
       "      <th>sex</th>\n",
       "      <th>batch</th>\n",
       "      <th>sample_id_cat</th>\n",
       "      <th>country</th>\n",
       "      <th>locality</th>\n",
       "    </tr>\n",
       "  </thead>\n",
       "  <tbody>\n",
       "    <tr>\n",
       "      <th>96</th>\n",
       "      <td>SRR11006847</td>\n",
       "      <td>SRR11006847</td>\n",
       "      <td>Brazil: Santarem</td>\n",
       "      <td>NaN</td>\n",
       "      <td>PRJNA602495</td>\n",
       "      <td>SRR11006847</td>\n",
       "      <td>Brazil</td>\n",
       "      <td>Santarem</td>\n",
       "    </tr>\n",
       "    <tr>\n",
       "      <th>82</th>\n",
       "      <td>SRR11006830</td>\n",
       "      <td>SRR11006830</td>\n",
       "      <td>Gabon: Franceville</td>\n",
       "      <td>NaN</td>\n",
       "      <td>PRJNA602495</td>\n",
       "      <td>SRR11006830</td>\n",
       "      <td>Gabon</td>\n",
       "      <td>Franceville</td>\n",
       "    </tr>\n",
       "    <tr>\n",
       "      <th>35</th>\n",
       "      <td>SRR11006666</td>\n",
       "      <td>SRR11006666</td>\n",
       "      <td>Kenya: KayaBomu</td>\n",
       "      <td>NaN</td>\n",
       "      <td>PRJNA602495</td>\n",
       "      <td>SRR11006666</td>\n",
       "      <td>Kenya</td>\n",
       "      <td>KayaBomu</td>\n",
       "    </tr>\n",
       "    <tr>\n",
       "      <th>76</th>\n",
       "      <td>SRR11006824</td>\n",
       "      <td>SRR11006824</td>\n",
       "      <td>Gabon: Franceville</td>\n",
       "      <td>NaN</td>\n",
       "      <td>PRJNA602495</td>\n",
       "      <td>SRR11006824</td>\n",
       "      <td>Gabon</td>\n",
       "      <td>Franceville</td>\n",
       "    </tr>\n",
       "    <tr>\n",
       "      <th>80</th>\n",
       "      <td>SRR11006828</td>\n",
       "      <td>SRR11006828</td>\n",
       "      <td>Gabon: Franceville</td>\n",
       "      <td>NaN</td>\n",
       "      <td>PRJNA602495</td>\n",
       "      <td>SRR11006828</td>\n",
       "      <td>Gabon</td>\n",
       "      <td>Franceville</td>\n",
       "    </tr>\n",
       "  </tbody>\n",
       "</table>\n",
       "</div>"
      ],
      "text/plain": [
       "      sample_id sample_short            location  sex        batch  \\\n",
       "96  SRR11006847  SRR11006847    Brazil: Santarem  NaN  PRJNA602495   \n",
       "82  SRR11006830  SRR11006830  Gabon: Franceville  NaN  PRJNA602495   \n",
       "35  SRR11006666  SRR11006666     Kenya: KayaBomu  NaN  PRJNA602495   \n",
       "76  SRR11006824  SRR11006824  Gabon: Franceville  NaN  PRJNA602495   \n",
       "80  SRR11006828  SRR11006828  Gabon: Franceville  NaN  PRJNA602495   \n",
       "\n",
       "   sample_id_cat country     locality  \n",
       "96   SRR11006847  Brazil     Santarem  \n",
       "82   SRR11006830   Gabon  Franceville  \n",
       "35   SRR11006666   Kenya     KayaBomu  \n",
       "76   SRR11006824   Gabon  Franceville  \n",
       "80   SRR11006828   Gabon  Franceville  "
      ]
     },
     "execution_count": 14,
     "metadata": {},
     "output_type": "execute_result"
    }
   ],
   "source": [
    "md_vcf = md.copy()\n",
    "\n",
    "md_vcf[\"sample_id_cat\"] = md_vcf[\"sample_id\"].astype(\"category\")\n",
    "\n",
    "md_vcf[\"sample_id_cat\"].cat.set_categories(pd.Series(vgsc_dict[\"samples\"]), \n",
    "                                   inplace=True)\n",
    "\n",
    "md_vcf.sort_values(\"sample_id_cat\", inplace=True)\n",
    "\n",
    "md_vcf.head()"
   ]
  },
  {
   "cell_type": "code",
   "execution_count": 15,
   "metadata": {},
   "outputs": [
    {
     "data": {
      "text/plain": [
       "0"
      ]
     },
     "execution_count": 15,
     "metadata": {},
     "output_type": "execute_result"
    }
   ],
   "source": [
    "np.sum(~(md_vcf[\"sample_id\"] == vgsc_dict[\"samples\"]))"
   ]
  },
  {
   "cell_type": "code",
   "execution_count": 16,
   "metadata": {},
   "outputs": [],
   "source": [
    "vgsc_file_order = []\n",
    "\n",
    "for name in md[\"sample_id\"].values:\n",
    "    \n",
    "    vgsc_file_order.append(np.where(vgsc_dict[\"samples\"] == name)[0][0])"
   ]
  },
  {
   "cell_type": "markdown",
   "metadata": {
    "tags": []
   },
   "source": [
    "##### concatenate genotypes at the focal loci"
   ]
  },
  {
   "cell_type": "code",
   "execution_count": 17,
   "metadata": {},
   "outputs": [],
   "source": [
    "pos = chroms_dict[chrom][\"pos\"].compute()\n",
    "gt = allel.GenotypeArray(chroms_dict[chrom][\"gt\"])\n",
    "gq = chroms_dict[chrom][\"gq\"]\n",
    "\n",
    "gt.mask = (gq < 20).compute()\n",
    "\n",
    "unflt_pos = vgsc_dict[\"variants/POS\"]\n",
    "unflt_gt = allel.GenotypeArray(vgsc_dict[\"calldata/GT\"][:, np.array(vgsc_file_order)])"
   ]
  },
  {
   "cell_type": "code",
   "execution_count": 18,
   "metadata": {},
   "outputs": [
    {
     "name": "stdout",
     "output_type": "stream",
     "text": [
      "315939224 [315939224]\n",
      "315983763 [315983763]\n",
      "315999297 [315999297]\n",
      "316014588 [316014588]\n",
      "316080722 [316080722]\n"
     ]
    }
   ],
   "source": [
    "focal_snps_list = []\n",
    "\n",
    "for snp in focal_snps:\n",
    "    \n",
    "    if snp == 315939224:\n",
    "        \n",
    "        flt = (unflt_pos == snp)\n",
    "        \n",
    "        print(snp, unflt_pos[flt])\n",
    "        \n",
    "        focal_snps_list.append(unflt_gt.subset(sel0 = flt, sel1 = to_drop_bool))\n",
    "        \n",
    "    else:\n",
    "        \n",
    "        flt = (pos == snp)\n",
    "        \n",
    "        print(snp, pos[flt])\n",
    "        \n",
    "        focal_snps_list.append(gt.subset(sel0 = flt, sel1 = to_drop_bool))"
   ]
  },
  {
   "cell_type": "code",
   "execution_count": 19,
   "metadata": {},
   "outputs": [
    {
     "data": {
      "text/plain": [
       "(5, 123, 2)"
      ]
     },
     "execution_count": 19,
     "metadata": {},
     "output_type": "execute_result"
    }
   ],
   "source": [
    "focal_gts = allel.GenotypeArray(np.concatenate(focal_snps_list))\n",
    "\n",
    "focal_gts.shape"
   ]
  },
  {
   "cell_type": "code",
   "execution_count": 20,
   "metadata": {},
   "outputs": [
    {
     "name": "stdout",
     "output_type": "stream",
     "text": [
      "Colombia \n",
      " [[0.              nan       nan       nan       nan]\n",
      " [      nan 0.        1.        0.8803087 1.       ]\n",
      " [      nan 1.        0.        0.8857143 1.       ]\n",
      " [      nan 0.8803087 0.8857143 0.        0.8857143]\n",
      " [      nan 1.        1.        0.8857143 0.       ]] \n",
      "\n",
      "Kenya \n",
      " [[0.                nan 0.06355933        nan        nan]\n",
      " [       nan 0.                nan        nan        nan]\n",
      " [0.06355933        nan 0.                nan        nan]\n",
      " [       nan        nan        nan 0.                nan]\n",
      " [       nan        nan        nan        nan 0.        ]] \n",
      "\n",
      "Senegal \n",
      " [[ 0. nan nan nan nan]\n",
      " [nan  0. nan nan nan]\n",
      " [nan nan  0. nan nan]\n",
      " [nan nan nan  0. nan]\n",
      " [nan nan nan nan  0.]] \n",
      "\n",
      "Gabon \n",
      " [[ 0. nan nan nan nan]\n",
      " [nan  0. nan nan nan]\n",
      " [nan nan  0. nan nan]\n",
      " [nan nan nan  0. nan]\n",
      " [nan nan nan nan  0.]] \n",
      "\n",
      "Brazil \n",
      " [[ 0. nan nan nan nan]\n",
      " [nan  0. nan nan nan]\n",
      " [nan nan  0. nan nan]\n",
      " [nan nan nan  0. nan]\n",
      " [nan nan nan nan  0.]] \n",
      "\n",
      "USA \n",
      " [[0.         0.35814306 0.03419163 0.218757   0.01285978]\n",
      " [0.35814306 0.         0.4149254  0.5681663  0.36846513]\n",
      " [0.03419163 0.4149254  0.         0.2910304  0.39085698]\n",
      " [0.218757   0.5681663  0.2910304  0.         0.7398003 ]\n",
      " [0.01285978 0.36846513 0.39085698 0.7398003  0.        ]] \n",
      "\n"
     ]
    }
   ],
   "source": [
    "for country, country_flt in country_bools.items():\n",
    "    \n",
    "    country_gt = focal_gts.subset(sel1 = country_flt)\n",
    "        \n",
    "    ld = allel.rogers_huff_r(country_gt.to_n_alt(fill=-1))\n",
    "    \n",
    "    print(country, \"\\n\", squareform(ld ** 2), \"\\n\")"
   ]
  },
  {
   "cell_type": "code",
   "execution_count": 21,
   "metadata": {},
   "outputs": [],
   "source": [
    "ld_by_country = {}\n",
    "\n",
    "for country, country_flt in country_bools.items():\n",
    "    \n",
    "    country_gt = focal_gts.subset(sel1 = country_flt)\n",
    "        \n",
    "    ld = allel.rogers_huff_r(country_gt.to_n_alt(fill=-1))\n",
    "    \n",
    "    ld_by_country[country] = pd.DataFrame(squareform(ld ** 2), index=focal_snps, \n",
    "                                          columns=focal_snps)"
   ]
  },
  {
   "cell_type": "code",
   "execution_count": 22,
   "metadata": {},
   "outputs": [
    {
     "data": {
      "text/html": [
       "<div>\n",
       "<style scoped>\n",
       "    .dataframe tbody tr th:only-of-type {\n",
       "        vertical-align: middle;\n",
       "    }\n",
       "\n",
       "    .dataframe tbody tr th {\n",
       "        vertical-align: top;\n",
       "    }\n",
       "\n",
       "    .dataframe thead th {\n",
       "        text-align: right;\n",
       "    }\n",
       "</style>\n",
       "<table border=\"1\" class=\"dataframe\">\n",
       "  <thead>\n",
       "    <tr style=\"text-align: right;\">\n",
       "      <th></th>\n",
       "      <th>315939224</th>\n",
       "      <th>315983763</th>\n",
       "      <th>315999297</th>\n",
       "      <th>316014588</th>\n",
       "      <th>316080722</th>\n",
       "    </tr>\n",
       "  </thead>\n",
       "  <tbody>\n",
       "    <tr>\n",
       "      <th>315939224</th>\n",
       "      <td>0.0</td>\n",
       "      <td>NaN</td>\n",
       "      <td>NaN</td>\n",
       "      <td>NaN</td>\n",
       "      <td>NaN</td>\n",
       "    </tr>\n",
       "    <tr>\n",
       "      <th>315983763</th>\n",
       "      <td>NaN</td>\n",
       "      <td>0.000000</td>\n",
       "      <td>1.000000</td>\n",
       "      <td>0.880309</td>\n",
       "      <td>1.000000</td>\n",
       "    </tr>\n",
       "    <tr>\n",
       "      <th>315999297</th>\n",
       "      <td>NaN</td>\n",
       "      <td>1.000000</td>\n",
       "      <td>0.000000</td>\n",
       "      <td>0.885714</td>\n",
       "      <td>1.000000</td>\n",
       "    </tr>\n",
       "    <tr>\n",
       "      <th>316014588</th>\n",
       "      <td>NaN</td>\n",
       "      <td>0.880309</td>\n",
       "      <td>0.885714</td>\n",
       "      <td>0.000000</td>\n",
       "      <td>0.885714</td>\n",
       "    </tr>\n",
       "    <tr>\n",
       "      <th>316080722</th>\n",
       "      <td>NaN</td>\n",
       "      <td>1.000000</td>\n",
       "      <td>1.000000</td>\n",
       "      <td>0.885714</td>\n",
       "      <td>0.000000</td>\n",
       "    </tr>\n",
       "  </tbody>\n",
       "</table>\n",
       "</div>"
      ],
      "text/plain": [
       "           315939224  315983763  315999297  316014588  316080722\n",
       "315939224        0.0        NaN        NaN        NaN        NaN\n",
       "315983763        NaN   0.000000   1.000000   0.880309   1.000000\n",
       "315999297        NaN   1.000000   0.000000   0.885714   1.000000\n",
       "316014588        NaN   0.880309   0.885714   0.000000   0.885714\n",
       "316080722        NaN   1.000000   1.000000   0.885714   0.000000"
      ]
     },
     "execution_count": 22,
     "metadata": {},
     "output_type": "execute_result"
    }
   ],
   "source": [
    "ld_by_country[\"Colombia\"]"
   ]
  },
  {
   "cell_type": "code",
   "execution_count": 23,
   "metadata": {},
   "outputs": [
    {
     "data": {
      "text/html": [
       "<div>\n",
       "<style scoped>\n",
       "    .dataframe tbody tr th:only-of-type {\n",
       "        vertical-align: middle;\n",
       "    }\n",
       "\n",
       "    .dataframe tbody tr th {\n",
       "        vertical-align: top;\n",
       "    }\n",
       "\n",
       "    .dataframe thead th {\n",
       "        text-align: right;\n",
       "    }\n",
       "</style>\n",
       "<table border=\"1\" class=\"dataframe\">\n",
       "  <thead>\n",
       "    <tr style=\"text-align: right;\">\n",
       "      <th></th>\n",
       "      <th>315939224</th>\n",
       "      <th>315983763</th>\n",
       "      <th>315999297</th>\n",
       "      <th>316014588</th>\n",
       "      <th>316080722</th>\n",
       "    </tr>\n",
       "  </thead>\n",
       "  <tbody>\n",
       "    <tr>\n",
       "      <th>315939224</th>\n",
       "      <td>0.0</td>\n",
       "      <td>NaN</td>\n",
       "      <td>NaN</td>\n",
       "      <td>NaN</td>\n",
       "      <td>NaN</td>\n",
       "    </tr>\n",
       "    <tr>\n",
       "      <th>315983763</th>\n",
       "      <td>NaN</td>\n",
       "      <td>0.0</td>\n",
       "      <td>NaN</td>\n",
       "      <td>NaN</td>\n",
       "      <td>NaN</td>\n",
       "    </tr>\n",
       "    <tr>\n",
       "      <th>315999297</th>\n",
       "      <td>NaN</td>\n",
       "      <td>NaN</td>\n",
       "      <td>0.0</td>\n",
       "      <td>NaN</td>\n",
       "      <td>NaN</td>\n",
       "    </tr>\n",
       "    <tr>\n",
       "      <th>316014588</th>\n",
       "      <td>NaN</td>\n",
       "      <td>NaN</td>\n",
       "      <td>NaN</td>\n",
       "      <td>0.0</td>\n",
       "      <td>NaN</td>\n",
       "    </tr>\n",
       "    <tr>\n",
       "      <th>316080722</th>\n",
       "      <td>NaN</td>\n",
       "      <td>NaN</td>\n",
       "      <td>NaN</td>\n",
       "      <td>NaN</td>\n",
       "      <td>0.0</td>\n",
       "    </tr>\n",
       "  </tbody>\n",
       "</table>\n",
       "</div>"
      ],
      "text/plain": [
       "           315939224  315983763  315999297  316014588  316080722\n",
       "315939224        0.0        NaN        NaN        NaN        NaN\n",
       "315983763        NaN        0.0        NaN        NaN        NaN\n",
       "315999297        NaN        NaN        0.0        NaN        NaN\n",
       "316014588        NaN        NaN        NaN        0.0        NaN\n",
       "316080722        NaN        NaN        NaN        NaN        0.0"
      ]
     },
     "execution_count": 23,
     "metadata": {},
     "output_type": "execute_result"
    }
   ],
   "source": [
    "ld_by_country[\"Brazil\"]"
   ]
  },
  {
   "cell_type": "code",
   "execution_count": 24,
   "metadata": {},
   "outputs": [
    {
     "data": {
      "text/html": [
       "<div>\n",
       "<style scoped>\n",
       "    .dataframe tbody tr th:only-of-type {\n",
       "        vertical-align: middle;\n",
       "    }\n",
       "\n",
       "    .dataframe tbody tr th {\n",
       "        vertical-align: top;\n",
       "    }\n",
       "\n",
       "    .dataframe thead th {\n",
       "        text-align: right;\n",
       "    }\n",
       "</style>\n",
       "<table border=\"1\" class=\"dataframe\">\n",
       "  <thead>\n",
       "    <tr style=\"text-align: right;\">\n",
       "      <th></th>\n",
       "      <th>315939224</th>\n",
       "      <th>315983763</th>\n",
       "      <th>315999297</th>\n",
       "      <th>316014588</th>\n",
       "      <th>316080722</th>\n",
       "    </tr>\n",
       "  </thead>\n",
       "  <tbody>\n",
       "    <tr>\n",
       "      <th>315939224</th>\n",
       "      <td>0.000000</td>\n",
       "      <td>0.358143</td>\n",
       "      <td>0.034192</td>\n",
       "      <td>0.218757</td>\n",
       "      <td>0.012860</td>\n",
       "    </tr>\n",
       "    <tr>\n",
       "      <th>315983763</th>\n",
       "      <td>0.358143</td>\n",
       "      <td>0.000000</td>\n",
       "      <td>0.414925</td>\n",
       "      <td>0.568166</td>\n",
       "      <td>0.368465</td>\n",
       "    </tr>\n",
       "    <tr>\n",
       "      <th>315999297</th>\n",
       "      <td>0.034192</td>\n",
       "      <td>0.414925</td>\n",
       "      <td>0.000000</td>\n",
       "      <td>0.291030</td>\n",
       "      <td>0.390857</td>\n",
       "    </tr>\n",
       "    <tr>\n",
       "      <th>316014588</th>\n",
       "      <td>0.218757</td>\n",
       "      <td>0.568166</td>\n",
       "      <td>0.291030</td>\n",
       "      <td>0.000000</td>\n",
       "      <td>0.739800</td>\n",
       "    </tr>\n",
       "    <tr>\n",
       "      <th>316080722</th>\n",
       "      <td>0.012860</td>\n",
       "      <td>0.368465</td>\n",
       "      <td>0.390857</td>\n",
       "      <td>0.739800</td>\n",
       "      <td>0.000000</td>\n",
       "    </tr>\n",
       "  </tbody>\n",
       "</table>\n",
       "</div>"
      ],
      "text/plain": [
       "           315939224  315983763  315999297  316014588  316080722\n",
       "315939224   0.000000   0.358143   0.034192   0.218757   0.012860\n",
       "315983763   0.358143   0.000000   0.414925   0.568166   0.368465\n",
       "315999297   0.034192   0.414925   0.000000   0.291030   0.390857\n",
       "316014588   0.218757   0.568166   0.291030   0.000000   0.739800\n",
       "316080722   0.012860   0.368465   0.390857   0.739800   0.000000"
      ]
     },
     "execution_count": 24,
     "metadata": {},
     "output_type": "execute_result"
    }
   ],
   "source": [
    "ld_by_country[\"USA\"]"
   ]
  },
  {
   "cell_type": "code",
   "execution_count": null,
   "metadata": {},
   "outputs": [],
   "source": []
  }
 ],
 "metadata": {
  "kernelspec": {
   "display_name": "rrlove",
   "language": "python",
   "name": "rrlove"
  },
  "language_info": {
   "codemirror_mode": {
    "name": "ipython",
    "version": 3
   },
   "file_extension": ".py",
   "mimetype": "text/x-python",
   "name": "python",
   "nbconvert_exporter": "python",
   "pygments_lexer": "ipython3",
   "version": "3.8.5"
  }
 },
 "nbformat": 4,
 "nbformat_minor": 4
}
