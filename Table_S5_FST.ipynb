{
 "cells": [
  {
   "cell_type": "markdown",
   "metadata": {},
   "source": [
    "##### Table S5: mean genome-wide FST between each cohort\n"
   ]
  },
  {
   "cell_type": "code",
   "execution_count": 1,
   "metadata": {},
   "outputs": [],
   "source": [
    "from collections import defaultdict\n",
    "import dask.array as da\n",
    "import numpy as np\n",
    "import pandas as pd\n",
    "import re\n",
    "\n",
    "import allel\n",
    "import itertools\n",
    "\n",
    "import ingenos"
   ]
  },
  {
   "cell_type": "code",
   "execution_count": 2,
   "metadata": {},
   "outputs": [],
   "source": [
    "base_path = \"/overflow/dschridelab/users/rrlove/aedes/\"\n",
    "md_path = f\"{base_path}metadata/\"\n",
    "results_path = f\"{base_path}results/\"\n",
    "zarr_path = \"/proj/dschridelab/rrlove/aedes/vcf/filtered_110122/\""
   ]
  },
  {
   "cell_type": "code",
   "execution_count": 3,
   "metadata": {},
   "outputs": [],
   "source": [
    "def return_data(zarr_path, data_type, data_name):\n",
    "    \n",
    "    fetch_str = f\"{data_type}/{data_name}\" \n",
    "    \n",
    "    return da.from_zarr(zarr_path, component=fetch_str)"
   ]
  },
  {
   "cell_type": "markdown",
   "metadata": {},
   "source": [
    "##### read in the genome-wide data"
   ]
  },
  {
   "cell_type": "code",
   "execution_count": 4,
   "metadata": {},
   "outputs": [
    {
     "name": "stdout",
     "output_type": "stream",
     "text": [
      "AaegL5_1 (18443972, 131, 2)\n",
      "AaegL5_2 (32930875, 131, 2)\n",
      "AaegL5_3 (27660249, 131, 2)\n"
     ]
    }
   ],
   "source": [
    "chroms_dict = defaultdict(dict)\n",
    "\n",
    "chroms = [\"AaegL5_1\", \"AaegL5_2\", \"AaegL5_3\"]\n",
    "\n",
    "for chrom in chroms:\n",
    "    \n",
    "    temp_in_path = zarr_path + chrom\n",
    "\n",
    "    chroms_dict[chrom][\"pos\"] = return_data(temp_in_path, \"variants\", \"POS\")\n",
    "    chroms_dict[chrom][\"chrom\"] = return_data(temp_in_path, \"variants\", \"CHROM\")\n",
    "    chroms_dict[chrom][\"ref\"] = return_data(temp_in_path, \"variants\", \"REF\")\n",
    "    chroms_dict[chrom][\"alt\"] = return_data(temp_in_path, \"variants\", \"ALT\")\n",
    "    chroms_dict[chrom][\"ac\"] = return_data(temp_in_path, \"variants\", \"AC\")\n",
    "    chroms_dict[chrom][\"qd\"] = return_data(temp_in_path, \"variants\", \"QD\")\n",
    "    chroms_dict[chrom][\"mq\"] = return_data(temp_in_path, \"variants\", \"MQ\")\n",
    "    chroms_dict[chrom][\"fs\"] = return_data(temp_in_path, \"variants\", \"FS\")\n",
    "    chroms_dict[chrom][\"mqrs\"] = return_data(temp_in_path, \"variants\", \"MQRankSum\")\n",
    "    chroms_dict[chrom][\"rprs\"] = return_data(temp_in_path, \"variants\", \"ReadPosRankSum\")\n",
    "    chroms_dict[chrom][\"sor\"] = return_data(temp_in_path, \"variants\", \"SOR\")\n",
    "    chroms_dict[chrom][\"is_snp\"] = return_data(temp_in_path, \"variants\", \"is_snp\")\n",
    "    chroms_dict[chrom][\"numalt\"] = return_data(temp_in_path, \"variants\", \"numalt\")\n",
    "    chroms_dict[chrom][\"filter_pass\"] = return_data(temp_in_path, \"variants\", \"FILTER_PASS\")\n",
    "\n",
    "    chroms_dict[chrom][\"gt\"] = return_data(temp_in_path, \"calldata\", \"GT\")\n",
    "    chroms_dict[chrom][\"gq\"] = return_data(temp_in_path, \"calldata\", \"GQ\")\n",
    "    chroms_dict[chrom][\"ad\"] = return_data(temp_in_path, \"calldata\", \"AD\")\n",
    "    chroms_dict[chrom][\"pl\"] = return_data(temp_in_path, \"calldata\", \"PL\")\n",
    "    chroms_dict[chrom][\"dp\"] = return_data(temp_in_path, \"calldata\", \"DP\")\n",
    "    \n",
    "    print(chrom, chroms_dict[chrom][\"gt\"].shape)\n",
    "    \n",
    "samples = da.from_zarr(temp_in_path, component=\"samples\")"
   ]
  },
  {
   "cell_type": "code",
   "execution_count": 5,
   "metadata": {},
   "outputs": [
    {
     "data": {
      "text/plain": [
       "79035096"
      ]
     },
     "execution_count": 5,
     "metadata": {},
     "output_type": "execute_result"
    }
   ],
   "source": [
    "np.sum([chroms_dict[chrom][\"gt\"].shape[0] for chrom in chroms])"
   ]
  },
  {
   "cell_type": "markdown",
   "metadata": {},
   "source": [
    "##### read in the metadata"
   ]
  },
  {
   "cell_type": "code",
   "execution_count": 6,
   "metadata": {},
   "outputs": [
    {
     "data": {
      "text/html": [
       "<div>\n",
       "<style scoped>\n",
       "    .dataframe tbody tr th:only-of-type {\n",
       "        vertical-align: middle;\n",
       "    }\n",
       "\n",
       "    .dataframe tbody tr th {\n",
       "        vertical-align: top;\n",
       "    }\n",
       "\n",
       "    .dataframe thead th {\n",
       "        text-align: right;\n",
       "    }\n",
       "</style>\n",
       "<table border=\"1\" class=\"dataframe\">\n",
       "  <thead>\n",
       "    <tr style=\"text-align: right;\">\n",
       "      <th></th>\n",
       "      <th>sample_id</th>\n",
       "      <th>sample_short</th>\n",
       "      <th>location</th>\n",
       "      <th>sex</th>\n",
       "      <th>batch</th>\n",
       "      <th>sample_id_cat</th>\n",
       "      <th>country</th>\n",
       "      <th>locality</th>\n",
       "    </tr>\n",
       "  </thead>\n",
       "  <tbody>\n",
       "    <tr>\n",
       "      <th>0</th>\n",
       "      <td>FEMALE_1-F1_CGCATGAT-TCAGGCTT_S1</td>\n",
       "      <td>FEMALE_1</td>\n",
       "      <td>Colombia: Rio Claro</td>\n",
       "      <td>F</td>\n",
       "      <td>1</td>\n",
       "      <td>FEMALE_1-F1_CGCATGAT-TCAGGCTT_S1</td>\n",
       "      <td>Colombia</td>\n",
       "      <td>Rio Claro</td>\n",
       "    </tr>\n",
       "    <tr>\n",
       "      <th>1</th>\n",
       "      <td>FEMALE_10-F10_GTGCCATA-ACTAGGAG_S2</td>\n",
       "      <td>FEMALE_10</td>\n",
       "      <td>Colombia: Rio Claro</td>\n",
       "      <td>F</td>\n",
       "      <td>1</td>\n",
       "      <td>FEMALE_10-F10_GTGCCATA-ACTAGGAG_S2</td>\n",
       "      <td>Colombia</td>\n",
       "      <td>Rio Claro</td>\n",
       "    </tr>\n",
       "    <tr>\n",
       "      <th>2</th>\n",
       "      <td>FEMALE_11-F11_CGTTGCAA-CGCTCTAT_S3</td>\n",
       "      <td>FEMALE_11</td>\n",
       "      <td>Colombia: Rio Claro</td>\n",
       "      <td>F</td>\n",
       "      <td>1</td>\n",
       "      <td>FEMALE_11-F11_CGTTGCAA-CGCTCTAT_S3</td>\n",
       "      <td>Colombia</td>\n",
       "      <td>Rio Claro</td>\n",
       "    </tr>\n",
       "    <tr>\n",
       "      <th>3</th>\n",
       "      <td>FEMALE_12-F12_TGAAGACG-TGGCATGT_S4</td>\n",
       "      <td>FEMALE_12</td>\n",
       "      <td>Colombia: Rio Claro</td>\n",
       "      <td>F</td>\n",
       "      <td>1</td>\n",
       "      <td>FEMALE_12-F12_TGAAGACG-TGGCATGT_S4</td>\n",
       "      <td>Colombia</td>\n",
       "      <td>Rio Claro</td>\n",
       "    </tr>\n",
       "    <tr>\n",
       "      <th>4</th>\n",
       "      <td>FEMALE_14-F14_ACGTTCAG-GCACAACT_S6</td>\n",
       "      <td>FEMALE_14</td>\n",
       "      <td>Colombia: Rio Claro</td>\n",
       "      <td>F</td>\n",
       "      <td>1</td>\n",
       "      <td>FEMALE_14-F14_ACGTTCAG-GCACAACT_S6</td>\n",
       "      <td>Colombia</td>\n",
       "      <td>Rio Claro</td>\n",
       "    </tr>\n",
       "  </tbody>\n",
       "</table>\n",
       "</div>"
      ],
      "text/plain": [
       "                            sample_id sample_short             location sex  \\\n",
       "0    FEMALE_1-F1_CGCATGAT-TCAGGCTT_S1     FEMALE_1  Colombia: Rio Claro   F   \n",
       "1  FEMALE_10-F10_GTGCCATA-ACTAGGAG_S2    FEMALE_10  Colombia: Rio Claro   F   \n",
       "2  FEMALE_11-F11_CGTTGCAA-CGCTCTAT_S3    FEMALE_11  Colombia: Rio Claro   F   \n",
       "3  FEMALE_12-F12_TGAAGACG-TGGCATGT_S4    FEMALE_12  Colombia: Rio Claro   F   \n",
       "4  FEMALE_14-F14_ACGTTCAG-GCACAACT_S6    FEMALE_14  Colombia: Rio Claro   F   \n",
       "\n",
       "  batch                       sample_id_cat   country   locality  \n",
       "0     1    FEMALE_1-F1_CGCATGAT-TCAGGCTT_S1  Colombia  Rio Claro  \n",
       "1     1  FEMALE_10-F10_GTGCCATA-ACTAGGAG_S2  Colombia  Rio Claro  \n",
       "2     1  FEMALE_11-F11_CGTTGCAA-CGCTCTAT_S3  Colombia  Rio Claro  \n",
       "3     1  FEMALE_12-F12_TGAAGACG-TGGCATGT_S4  Colombia  Rio Claro  \n",
       "4     1  FEMALE_14-F14_ACGTTCAG-GCACAACT_S6  Colombia  Rio Claro  "
      ]
     },
     "execution_count": 6,
     "metadata": {},
     "output_type": "execute_result"
    }
   ],
   "source": [
    "md = pd.read_table(\n",
    "    md_path + \"whole_sample_sorted_country.031522.csv\", \n",
    "    sep=\"\\t\",)\n",
    "\n",
    "md[\"locality\"] = md[\"location\"].str.split(\": \", expand=True)[1]\n",
    "\n",
    "md.head()"
   ]
  },
  {
   "cell_type": "code",
   "execution_count": 7,
   "metadata": {},
   "outputs": [
    {
     "data": {
      "text/plain": [
       "0"
      ]
     },
     "execution_count": 7,
     "metadata": {},
     "output_type": "execute_result"
    }
   ],
   "source": [
    "np.sum(~(md[\"sample_id\"] == samples.compute()))"
   ]
  },
  {
   "cell_type": "markdown",
   "metadata": {},
   "source": [
    "##### remove close kin"
   ]
  },
  {
   "cell_type": "code",
   "execution_count": 8,
   "metadata": {},
   "outputs": [
    {
     "data": {
      "text/plain": [
       "123"
      ]
     },
     "execution_count": 8,
     "metadata": {},
     "output_type": "execute_result"
    }
   ],
   "source": [
    "to_drop = np.loadtxt(md_path + \"close_kin_removed_new_dataset.txt\",\n",
    "                    dtype=str)\n",
    "\n",
    "to_drop_bool = (~(md[\"sample_short\"].isin(to_drop)).values)\n",
    "\n",
    "np.sum(to_drop_bool)"
   ]
  },
  {
   "cell_type": "code",
   "execution_count": 9,
   "metadata": {},
   "outputs": [
    {
     "data": {
      "text/plain": [
       "(123, 8)"
      ]
     },
     "execution_count": 9,
     "metadata": {},
     "output_type": "execute_result"
    }
   ],
   "source": [
    "md_filtered = md.loc[to_drop_bool]\n",
    "\n",
    "md_filtered.reset_index(drop=True, inplace=True)\n",
    "\n",
    "md_filtered.shape"
   ]
  },
  {
   "cell_type": "markdown",
   "metadata": {},
   "source": [
    "##### set up filtering by country"
   ]
  },
  {
   "cell_type": "code",
   "execution_count": 10,
   "metadata": {},
   "outputs": [
    {
     "data": {
      "text/plain": [
       "dict_keys(['Colombia', 'Kenya', 'Senegal', 'Gabon', 'Brazil', 'USA'])"
      ]
     },
     "execution_count": 10,
     "metadata": {},
     "output_type": "execute_result"
    }
   ],
   "source": [
    "country_bools = {}\n",
    "\n",
    "countries = md_filtered[\"country\"].unique()\n",
    "\n",
    "for country in countries:\n",
    "    \n",
    "    country_bools[country] = (md_filtered[\"country\"] == country).values\n",
    "    \n",
    "country_bools.keys()"
   ]
  },
  {
   "cell_type": "code",
   "execution_count": 11,
   "metadata": {},
   "outputs": [
    {
     "data": {
      "text/plain": [
       "'USA'"
      ]
     },
     "execution_count": 11,
     "metadata": {},
     "output_type": "execute_result"
    }
   ],
   "source": [
    "country_indices = {}\n",
    "\n",
    "for country, flt in country_bools.items():\n",
    "    \n",
    "    country_indices[country] = md_filtered[flt].index\n",
    "    \n",
    "country"
   ]
  },
  {
   "cell_type": "markdown",
   "metadata": {},
   "source": [
    "##### read in the repetitive and non-uniquely-mapping regions"
   ]
  },
  {
   "cell_type": "code",
   "execution_count": 12,
   "metadata": {},
   "outputs": [
    {
     "data": {
      "text/html": [
       "<div>\n",
       "<style scoped>\n",
       "    .dataframe tbody tr th:only-of-type {\n",
       "        vertical-align: middle;\n",
       "    }\n",
       "\n",
       "    .dataframe tbody tr th {\n",
       "        vertical-align: top;\n",
       "    }\n",
       "\n",
       "    .dataframe thead th {\n",
       "        text-align: right;\n",
       "    }\n",
       "</style>\n",
       "<table border=\"1\" class=\"dataframe\">\n",
       "  <thead>\n",
       "    <tr style=\"text-align: right;\">\n",
       "      <th></th>\n",
       "      <th>chrom</th>\n",
       "      <th>start</th>\n",
       "      <th>end</th>\n",
       "    </tr>\n",
       "  </thead>\n",
       "  <tbody>\n",
       "    <tr>\n",
       "      <th>0</th>\n",
       "      <td>AaegL5_1</td>\n",
       "      <td>0</td>\n",
       "      <td>273</td>\n",
       "    </tr>\n",
       "    <tr>\n",
       "      <th>1</th>\n",
       "      <td>AaegL5_1</td>\n",
       "      <td>297</td>\n",
       "      <td>373</td>\n",
       "    </tr>\n",
       "    <tr>\n",
       "      <th>2</th>\n",
       "      <td>AaegL5_1</td>\n",
       "      <td>413</td>\n",
       "      <td>7449</td>\n",
       "    </tr>\n",
       "    <tr>\n",
       "      <th>3</th>\n",
       "      <td>AaegL5_1</td>\n",
       "      <td>7452</td>\n",
       "      <td>8789</td>\n",
       "    </tr>\n",
       "    <tr>\n",
       "      <th>4</th>\n",
       "      <td>AaegL5_1</td>\n",
       "      <td>9854</td>\n",
       "      <td>18833</td>\n",
       "    </tr>\n",
       "  </tbody>\n",
       "</table>\n",
       "</div>"
      ],
      "text/plain": [
       "      chrom  start    end\n",
       "0  AaegL5_1      0    273\n",
       "1  AaegL5_1    297    373\n",
       "2  AaegL5_1    413   7449\n",
       "3  AaegL5_1   7452   8789\n",
       "4  AaegL5_1   9854  18833"
      ]
     },
     "execution_count": 12,
     "metadata": {},
     "output_type": "execute_result"
    }
   ],
   "source": [
    "mask = pd.read_table(\n",
    "    f\"{base_path}refs/aegy/unified_mask/merged_rep_map_masks.110822.bed\",\n",
    "sep=\"\\t\", names=[\"chrom\", \"start\", \"end\"])\n",
    "\n",
    "mask.head()"
   ]
  },
  {
   "cell_type": "markdown",
   "metadata": {},
   "source": [
    "##### calculate genome-wide FST in non-overlapping 500 kb windows"
   ]
  },
  {
   "cell_type": "code",
   "execution_count": 13,
   "metadata": {},
   "outputs": [
    {
     "name": "stderr",
     "output_type": "stream",
     "text": [
      "<ipython-input-13-e6cd1228def1>:16: PerformanceWarning: Slicing is producing a large chunk. To accept the large\n",
      "chunk and silence this warning, set the option\n",
      "    >>> with dask.config.set(**{'array.slicing.split_large_chunks': False}):\n",
      "    ...     array[indexer]\n",
      "\n",
      "To avoid creating the large chunks, set the option\n",
      "    >>> with dask.config.set(**{'array.slicing.split_large_chunks': True}):\n",
      "    ...     array[indexer]\n",
      "  gq_flt = chroms_dict[chrom][\"gq\"]\\\n"
     ]
    },
    {
     "name": "stdout",
     "output_type": "stream",
     "text": [
      "AaegL5_1 (8773166, 123, 2)\n"
     ]
    },
    {
     "name": "stderr",
     "output_type": "stream",
     "text": [
      "/nas/longleaf/home/rrlove/.conda/envs/rrlove/lib/python3.8/site-packages/allel/stats/fst.py:184: RuntimeWarning: invalid value encountered in true_divide\n",
      "  p = ac / an[:, np.newaxis, :]\n",
      "/nas/longleaf/home/rrlove/.conda/envs/rrlove/lib/python3.8/site-packages/allel/stats/fst.py:225: RuntimeWarning: divide by zero encountered in true_divide\n",
      "  a = ((n_bar / n_C) *\n"
     ]
    },
    {
     "name": "stdout",
     "output_type": "stream",
     "text": [
      "Colombia Kenya\n",
      "Colombia Senegal\n",
      "Colombia Gabon\n",
      "Colombia Brazil\n",
      "Colombia USA\n",
      "Kenya Senegal\n",
      "Kenya Gabon\n",
      "Kenya Brazil\n",
      "Kenya USA\n",
      "Senegal Gabon\n",
      "Senegal Brazil\n",
      "Senegal USA\n",
      "Gabon Brazil\n",
      "Gabon USA\n",
      "Brazil USA\n"
     ]
    },
    {
     "name": "stderr",
     "output_type": "stream",
     "text": [
      "<ipython-input-13-e6cd1228def1>:16: PerformanceWarning: Slicing is producing a large chunk. To accept the large\n",
      "chunk and silence this warning, set the option\n",
      "    >>> with dask.config.set(**{'array.slicing.split_large_chunks': False}):\n",
      "    ...     array[indexer]\n",
      "\n",
      "To avoid creating the large chunks, set the option\n",
      "    >>> with dask.config.set(**{'array.slicing.split_large_chunks': True}):\n",
      "    ...     array[indexer]\n",
      "  gq_flt = chroms_dict[chrom][\"gq\"]\\\n"
     ]
    },
    {
     "name": "stdout",
     "output_type": "stream",
     "text": [
      "AaegL5_2 (16681224, 123, 2)\n"
     ]
    },
    {
     "name": "stderr",
     "output_type": "stream",
     "text": [
      "/nas/longleaf/home/rrlove/.conda/envs/rrlove/lib/python3.8/site-packages/allel/stats/fst.py:184: RuntimeWarning: invalid value encountered in true_divide\n",
      "  p = ac / an[:, np.newaxis, :]\n",
      "/nas/longleaf/home/rrlove/.conda/envs/rrlove/lib/python3.8/site-packages/allel/stats/fst.py:225: RuntimeWarning: divide by zero encountered in true_divide\n",
      "  a = ((n_bar / n_C) *\n"
     ]
    },
    {
     "name": "stdout",
     "output_type": "stream",
     "text": [
      "Colombia Kenya\n",
      "Colombia Senegal\n",
      "Colombia Gabon\n",
      "Colombia Brazil\n",
      "Colombia USA\n",
      "Kenya Senegal\n",
      "Kenya Gabon\n",
      "Kenya Brazil\n",
      "Kenya USA\n",
      "Senegal Gabon\n",
      "Senegal Brazil\n",
      "Senegal USA\n",
      "Gabon Brazil\n",
      "Gabon USA\n",
      "Brazil USA\n"
     ]
    },
    {
     "name": "stderr",
     "output_type": "stream",
     "text": [
      "<ipython-input-13-e6cd1228def1>:16: PerformanceWarning: Slicing is producing a large chunk. To accept the large\n",
      "chunk and silence this warning, set the option\n",
      "    >>> with dask.config.set(**{'array.slicing.split_large_chunks': False}):\n",
      "    ...     array[indexer]\n",
      "\n",
      "To avoid creating the large chunks, set the option\n",
      "    >>> with dask.config.set(**{'array.slicing.split_large_chunks': True}):\n",
      "    ...     array[indexer]\n",
      "  gq_flt = chroms_dict[chrom][\"gq\"]\\\n"
     ]
    },
    {
     "name": "stdout",
     "output_type": "stream",
     "text": [
      "AaegL5_3 (13548426, 123, 2)\n"
     ]
    },
    {
     "name": "stderr",
     "output_type": "stream",
     "text": [
      "/nas/longleaf/home/rrlove/.conda/envs/rrlove/lib/python3.8/site-packages/allel/stats/fst.py:184: RuntimeWarning: invalid value encountered in true_divide\n",
      "  p = ac / an[:, np.newaxis, :]\n",
      "/nas/longleaf/home/rrlove/.conda/envs/rrlove/lib/python3.8/site-packages/allel/stats/fst.py:225: RuntimeWarning: divide by zero encountered in true_divide\n",
      "  a = ((n_bar / n_C) *\n"
     ]
    },
    {
     "name": "stdout",
     "output_type": "stream",
     "text": [
      "Colombia Kenya\n",
      "Colombia Senegal\n",
      "Colombia Gabon\n",
      "Colombia Brazil\n",
      "Colombia USA\n",
      "Kenya Senegal\n",
      "Kenya Gabon\n",
      "Kenya Brazil\n",
      "Kenya USA\n",
      "Senegal Gabon\n",
      "Senegal Brazil\n",
      "Senegal USA\n",
      "Gabon Brazil\n",
      "Gabon USA\n",
      "Brazil USA\n"
     ]
    }
   ],
   "source": [
    "chrom_fst_dict = defaultdict(dict)\n",
    "\n",
    "for chrom in chroms:\n",
    "    \n",
    "    pos = allel.SortedIndex(chroms_dict[chrom][\"pos\"])\n",
    "    \n",
    "    chrom_mask = mask[mask[\"chrom\"] == chrom]\n",
    "    \n",
    "    mask_flt = (~(pos.locate_ranges(chrom_mask[\"start\"] + 1, \n",
    "                                      chrom_mask[\"end\"],\n",
    "                                      strict=False)))\n",
    "\n",
    "    gt = allel.GenotypeArray(chroms_dict[chrom][\"gt\"]).subset(sel0 = mask_flt,\n",
    "                                        sel1 = to_drop_bool)\n",
    "    \n",
    "    gq_flt = chroms_dict[chrom][\"gq\"]\\\n",
    "    [:, to_drop_bool]\\\n",
    "    [mask_flt, :].compute()\n",
    "    \n",
    "    gt.mask = gq_flt < 20\n",
    "    \n",
    "    print(chrom, gt.shape)\n",
    "\n",
    "    for country1, country2 in itertools.combinations(countries, 2):\n",
    "        \n",
    "        fst = allel.moving_weir_cockerham_fst(gt, \n",
    "                                              [country_indices[country1], \n",
    "                                               country_indices[country2]],\n",
    "                                             size=500000)\n",
    "    \n",
    "        chrom_fst_dict[chrom][(country1, country2)] = fst\n",
    "        \n",
    "        print(country1, country2)"
   ]
  },
  {
   "cell_type": "markdown",
   "metadata": {},
   "source": [
    "##### for each pair, calculate the mean and median per-chrom and overall"
   ]
  },
  {
   "cell_type": "code",
   "execution_count": 14,
   "metadata": {},
   "outputs": [
    {
     "name": "stdout",
     "output_type": "stream",
     "text": [
      "Colombia Kenya \n",
      "\n",
      "AaegL5_1 mean fst:  0.22952877845495298\n",
      "AaegL5_1 median fst:  0.2407208024816144 \n",
      "\n",
      "AaegL5_2 mean fst:  0.24331682891775763\n",
      "AaegL5_2 median fst:  0.24203128734230303 \n",
      "\n",
      "AaegL5_3 mean fst:  0.21940273538967237\n",
      "AaegL5_3 median fst:  0.2248747284882983 \n",
      "\n",
      "whole genome mean fst:  0.23188725251352416\n",
      "whole genome median fst:  0.2324767251308455 \n",
      "\n",
      "Colombia Senegal \n",
      "\n",
      "AaegL5_1 mean fst:  0.16234496143530594\n",
      "AaegL5_1 median fst:  0.15137258594802824 \n",
      "\n",
      "AaegL5_2 mean fst:  0.15933178369244988\n",
      "AaegL5_2 median fst:  0.1621143138091599 \n",
      "\n",
      "AaegL5_3 mean fst:  0.1628742628223907\n",
      "AaegL5_3 median fst:  0.15999797833983223 \n",
      "\n",
      "whole genome mean fst:  0.1612391987331896\n",
      "whole genome median fst:  0.15999797833983223 \n",
      "\n",
      "Colombia Gabon \n",
      "\n",
      "AaegL5_1 mean fst:  0.26487656762329387\n",
      "AaegL5_1 median fst:  0.23582159719056053 \n",
      "\n",
      "AaegL5_2 mean fst:  0.28573763992113654\n",
      "AaegL5_2 median fst:  0.28612044330536845 \n",
      "\n",
      "AaegL5_3 mean fst:  0.27153455968006185\n",
      "AaegL5_3 median fst:  0.2773972356607906 \n",
      "\n",
      "whole genome mean fst:  0.2761516477708464\n",
      "whole genome median fst:  0.2786945314801385 \n",
      "\n",
      "Colombia Brazil \n",
      "\n",
      "AaegL5_1 mean fst:  0.09247421746707414\n",
      "AaegL5_1 median fst:  0.10326019719423994 \n",
      "\n",
      "AaegL5_2 mean fst:  0.07485199514717354\n",
      "AaegL5_2 median fst:  0.07091127143202665 \n",
      "\n",
      "AaegL5_3 mean fst:  0.09035883356567813\n",
      "AaegL5_3 median fst:  0.08614619088008453 \n",
      "\n",
      "whole genome mean fst:  0.08418007848143241\n",
      "whole genome median fst:  0.08306218424198564 \n",
      "\n",
      "Colombia USA \n",
      "\n",
      "AaegL5_1 mean fst:  0.10916946873430788\n",
      "AaegL5_1 median fst:  0.09976147295478514 \n",
      "\n",
      "AaegL5_2 mean fst:  0.10119534653619393\n",
      "AaegL5_2 median fst:  0.09923811115682 \n",
      "\n",
      "AaegL5_3 mean fst:  0.0960763555661089\n",
      "AaegL5_3 median fst:  0.08833538377209503 \n",
      "\n",
      "whole genome mean fst:  0.10116089616185162\n",
      "whole genome median fst:  0.09923811115682 \n",
      "\n",
      "Kenya Senegal \n",
      "\n",
      "AaegL5_1 mean fst:  0.10962854769236506\n",
      "AaegL5_1 median fst:  0.11999755893990176 \n",
      "\n",
      "AaegL5_2 mean fst:  0.1164717942975909\n",
      "AaegL5_2 median fst:  0.11127716835498104 \n",
      "\n",
      "AaegL5_3 mean fst:  0.09757077877486016\n",
      "AaegL5_3 median fst:  0.09127096259293653 \n",
      "\n",
      "whole genome mean fst:  0.10833331882483026\n",
      "whole genome median fst:  0.10351237273198559 \n",
      "\n",
      "Kenya Gabon \n",
      "\n",
      "AaegL5_1 mean fst:  0.07541650176932825\n",
      "AaegL5_1 median fst:  0.08216597001564545 \n",
      "\n",
      "AaegL5_2 mean fst:  0.06406175336582617\n",
      "AaegL5_2 median fst:  0.040815334718668356 \n",
      "\n",
      "AaegL5_3 mean fst:  0.0664400665040767\n",
      "AaegL5_3 median fst:  0.05977365993697233 \n",
      "\n",
      "whole genome mean fst:  0.06740259982806383\n",
      "whole genome median fst:  0.059717980918843463 \n",
      "\n",
      "Kenya Brazil \n",
      "\n",
      "AaegL5_1 mean fst:  0.19968101138157224\n",
      "AaegL5_1 median fst:  0.2014569121697924 \n",
      "\n",
      "AaegL5_2 mean fst:  0.20944572614752294\n",
      "AaegL5_2 median fst:  0.2077917230255307 \n",
      "\n",
      "AaegL5_3 mean fst:  0.20493011432437325\n",
      "AaegL5_3 median fst:  0.20342148894332118 \n",
      "\n",
      "whole genome mean fst:  0.205706483676793\n",
      "whole genome median fst:  0.20342148894332118 \n",
      "\n",
      "Kenya USA \n",
      "\n",
      "AaegL5_1 mean fst:  0.17686972229021705\n",
      "AaegL5_1 median fst:  0.1779260031189545 \n",
      "\n",
      "AaegL5_2 mean fst:  0.16825787501019734\n",
      "AaegL5_2 median fst:  0.17789723546780306 \n",
      "\n",
      "AaegL5_3 mean fst:  0.1575310296625681\n",
      "AaegL5_3 median fst:  0.16411309493852536 \n",
      "\n",
      "whole genome mean fst:  0.1663978305864875\n",
      "whole genome median fst:  0.1743785646463251 \n",
      "\n",
      "Senegal Gabon \n",
      "\n",
      "AaegL5_1 mean fst:  0.08818383592676982\n",
      "AaegL5_1 median fst:  0.07958653344233456 \n",
      "\n",
      "AaegL5_2 mean fst:  0.10482677092580452\n",
      "AaegL5_2 median fst:  0.08580913035411573 \n",
      "\n",
      "AaegL5_3 mean fst:  0.08484686113977195\n",
      "AaegL5_3 median fst:  0.08099131196553085 \n",
      "\n",
      "whole genome mean fst:  0.0941464143127335\n",
      "whole genome median fst:  0.08229927369049186 \n",
      "\n",
      "Senegal Brazil \n",
      "\n",
      "AaegL5_1 mean fst:  0.14214881521552616\n",
      "AaegL5_1 median fst:  0.13210339555496103 \n",
      "\n",
      "AaegL5_2 mean fst:  0.1405903953423834\n",
      "AaegL5_2 median fst:  0.1416065451648681 \n",
      "\n",
      "AaegL5_3 mean fst:  0.15262203998395826\n",
      "AaegL5_3 median fst:  0.15008995492200752 \n",
      "\n",
      "whole genome mean fst:  0.14515335044843472\n",
      "whole genome median fst:  0.1439420954711529 \n",
      "\n",
      "Senegal USA \n",
      "\n",
      "AaegL5_1 mean fst:  0.12119681876543105\n",
      "AaegL5_1 median fst:  0.11076812384414116 \n",
      "\n",
      "AaegL5_2 mean fst:  0.1025001743925702\n",
      "AaegL5_2 median fst:  0.10794891491441969 \n",
      "\n",
      "AaegL5_3 mean fst:  0.11499169564087525\n",
      "AaegL5_3 median fst:  0.12118609677497179 \n",
      "\n",
      "whole genome mean fst:  0.11100814878273733\n",
      "whole genome median fst:  0.11201563641844325 \n",
      "\n",
      "Gabon Brazil \n",
      "\n",
      "AaegL5_1 mean fst:  0.23441704272378863\n",
      "AaegL5_1 median fst:  0.22272777483986508 \n",
      "\n",
      "AaegL5_2 mean fst:  0.2533036889354984\n",
      "AaegL5_2 median fst:  0.25029099909264296 \n",
      "\n",
      "AaegL5_3 mean fst:  0.2571695284274477\n",
      "AaegL5_3 median fst:  0.25553968395672605 \n",
      "\n",
      "whole genome mean fst:  0.25048946400931094\n",
      "whole genome median fst:  0.25229881740285176 \n",
      "\n",
      "Gabon USA \n",
      "\n",
      "AaegL5_1 mean fst:  0.21107887108279103\n",
      "AaegL5_1 median fst:  0.18230760074879948 \n",
      "\n",
      "AaegL5_2 mean fst:  0.19542053130301631\n",
      "AaegL5_2 median fst:  0.19594519631543442 \n",
      "\n",
      "AaegL5_3 mean fst:  0.20725753421789644\n",
      "AaegL5_3 median fst:  0.21167724678456856 \n",
      "\n",
      "whole genome mean fst:  0.20302820474402847\n",
      "whole genome median fst:  0.2057873479412936 \n",
      "\n",
      "Brazil USA \n",
      "\n",
      "AaegL5_1 mean fst:  0.10069879780737948\n",
      "AaegL5_1 median fst:  0.1023729839704347 \n",
      "\n",
      "AaegL5_2 mean fst:  0.0864482349768079\n",
      "AaegL5_2 median fst:  0.08567963809603146 \n",
      "\n",
      "AaegL5_3 mean fst:  0.09910283936209534\n",
      "AaegL5_3 median fst:  0.10039983756979724 \n",
      "\n",
      "whole genome mean fst:  0.09403179194463229\n",
      "whole genome median fst:  0.0940286547911592 \n",
      "\n"
     ]
    }
   ],
   "source": [
    "for country1, country2 in itertools.combinations(countries, 2):\n",
    "    \n",
    "    fst_list = []\n",
    "    \n",
    "    print(country1, country2, \"\\n\")\n",
    "    \n",
    "    for chrom in chroms:\n",
    "        \n",
    "        fst = chrom_fst_dict[chrom][(country1, country2)]\n",
    "        \n",
    "        print(chrom, \"mean fst: \", np.mean(fst))\n",
    "        print(chrom, \"median fst: \", np.median(fst), \"\\n\")\n",
    "        \n",
    "        fst_list.extend(fst)\n",
    "        \n",
    "    print(\"whole genome mean fst: \", np.mean(fst_list))\n",
    "    print(\"whole genome median fst: \", np.median(fst_list), \"\\n\")"
   ]
  },
  {
   "cell_type": "code",
   "execution_count": null,
   "metadata": {},
   "outputs": [],
   "source": []
  },
  {
   "cell_type": "code",
   "execution_count": null,
   "metadata": {},
   "outputs": [],
   "source": []
  }
 ],
 "metadata": {
  "kernelspec": {
   "display_name": "rrlove",
   "language": "python",
   "name": "rrlove"
  },
  "language_info": {
   "codemirror_mode": {
    "name": "ipython",
    "version": 3
   },
   "file_extension": ".py",
   "mimetype": "text/x-python",
   "name": "python",
   "nbconvert_exporter": "python",
   "pygments_lexer": "ipython3",
   "version": "3.8.5"
  }
 },
 "nbformat": 4,
 "nbformat_minor": 4
}
