{
 "cells": [
  {
   "cell_type": "markdown",
   "metadata": {},
   "source": [
    "##### Table 1: genotypes at each of the five focal SNPs in Vgsc"
   ]
  },
  {
   "cell_type": "code",
   "execution_count": 1,
   "metadata": {},
   "outputs": [],
   "source": [
    "from collections import defaultdict\n",
    "import dask.array as da\n",
    "import numpy as np\n",
    "import pandas as pd\n",
    "\n",
    "import allel\n",
    "\n",
    "import ingenos"
   ]
  },
  {
   "cell_type": "code",
   "execution_count": 2,
   "metadata": {},
   "outputs": [],
   "source": [
    "base_path = \"/overflow/dschridelab/users/rrlove/aedes/\"\n",
    "md_path = f\"{base_path}metadata/\"\n",
    "results_path = f\"{base_path}results/\"\n",
    "zarr_path = \"/proj/dschridelab/rrlove/aedes/vcf/filtered_110122/\""
   ]
  },
  {
   "cell_type": "code",
   "execution_count": 3,
   "metadata": {},
   "outputs": [],
   "source": [
    "chroms = [\"AaegL5_1\", \"AaegL5_2\", \"AaegL5_3\"]\n",
    "countries = [\"Brazil\", \"Colombia\", \"USA\", \"Kenya\", \"Senegal\", \"Gabon\"]"
   ]
  },
  {
   "cell_type": "markdown",
   "metadata": {},
   "source": [
    "##### read in the genotypes for AaegL5_3"
   ]
  },
  {
   "cell_type": "code",
   "execution_count": 4,
   "metadata": {},
   "outputs": [],
   "source": [
    "def return_data(zarr_path, data_type, data_name):\n",
    "    \n",
    "    fetch_str = f\"{data_type}/{data_name}\" \n",
    "    \n",
    "    return da.from_zarr(zarr_path, component=fetch_str)"
   ]
  },
  {
   "cell_type": "code",
   "execution_count": 5,
   "metadata": {},
   "outputs": [
    {
     "name": "stdout",
     "output_type": "stream",
     "text": [
      "AaegL5_3 (27660249, 131, 2)\n"
     ]
    }
   ],
   "source": [
    "chroms_dict = defaultdict(dict)\n",
    "\n",
    "chroms = [\"AaegL5_3\"]\n",
    "\n",
    "for chrom in chroms:\n",
    "    \n",
    "    temp_in_path = zarr_path + chrom\n",
    "\n",
    "    chroms_dict[chrom][\"pos\"] = return_data(temp_in_path, \"variants\", \"POS\")\n",
    "    chroms_dict[chrom][\"chrom\"] = return_data(temp_in_path, \"variants\", \"CHROM\")\n",
    "    chroms_dict[chrom][\"ref\"] = return_data(temp_in_path, \"variants\", \"REF\")\n",
    "    chroms_dict[chrom][\"alt\"] = return_data(temp_in_path, \"variants\", \"ALT\")\n",
    "    chroms_dict[chrom][\"ac\"] = return_data(temp_in_path, \"variants\", \"AC\")\n",
    "    chroms_dict[chrom][\"qd\"] = return_data(temp_in_path, \"variants\", \"QD\")\n",
    "    chroms_dict[chrom][\"mq\"] = return_data(temp_in_path, \"variants\", \"MQ\")\n",
    "    chroms_dict[chrom][\"fs\"] = return_data(temp_in_path, \"variants\", \"FS\")\n",
    "    chroms_dict[chrom][\"mqrs\"] = return_data(temp_in_path, \"variants\", \"MQRankSum\")\n",
    "    chroms_dict[chrom][\"rprs\"] = return_data(temp_in_path, \"variants\", \"ReadPosRankSum\")\n",
    "    chroms_dict[chrom][\"sor\"] = return_data(temp_in_path, \"variants\", \"SOR\")\n",
    "    chroms_dict[chrom][\"is_snp\"] = return_data(temp_in_path, \"variants\", \"is_snp\")\n",
    "    chroms_dict[chrom][\"numalt\"] = return_data(temp_in_path, \"variants\", \"numalt\")\n",
    "    chroms_dict[chrom][\"filter_pass\"] = return_data(temp_in_path, \"variants\", \"FILTER_PASS\")\n",
    "\n",
    "    chroms_dict[chrom][\"gt\"] = return_data(temp_in_path, \"calldata\", \"GT\")\n",
    "    chroms_dict[chrom][\"gq\"] = return_data(temp_in_path, \"calldata\", \"GQ\")\n",
    "    chroms_dict[chrom][\"ad\"] = return_data(temp_in_path, \"calldata\", \"AD\")\n",
    "    chroms_dict[chrom][\"pl\"] = return_data(temp_in_path, \"calldata\", \"PL\")\n",
    "    chroms_dict[chrom][\"dp\"] = return_data(temp_in_path, \"calldata\", \"DP\")\n",
    "    \n",
    "    print(chrom, chroms_dict[chrom][\"gt\"].shape)\n",
    "    \n",
    "samples = da.from_zarr(temp_in_path, component=\"samples\")"
   ]
  },
  {
   "cell_type": "markdown",
   "metadata": {},
   "source": [
    "##### read in and filter the metadata"
   ]
  },
  {
   "cell_type": "code",
   "execution_count": 6,
   "metadata": {},
   "outputs": [
    {
     "data": {
      "text/html": [
       "<div>\n",
       "<style scoped>\n",
       "    .dataframe tbody tr th:only-of-type {\n",
       "        vertical-align: middle;\n",
       "    }\n",
       "\n",
       "    .dataframe tbody tr th {\n",
       "        vertical-align: top;\n",
       "    }\n",
       "\n",
       "    .dataframe thead th {\n",
       "        text-align: right;\n",
       "    }\n",
       "</style>\n",
       "<table border=\"1\" class=\"dataframe\">\n",
       "  <thead>\n",
       "    <tr style=\"text-align: right;\">\n",
       "      <th></th>\n",
       "      <th>sample_id</th>\n",
       "      <th>sample_short</th>\n",
       "      <th>location</th>\n",
       "      <th>sex</th>\n",
       "      <th>batch</th>\n",
       "      <th>sample_id_cat</th>\n",
       "      <th>country</th>\n",
       "      <th>locality</th>\n",
       "    </tr>\n",
       "  </thead>\n",
       "  <tbody>\n",
       "    <tr>\n",
       "      <th>0</th>\n",
       "      <td>FEMALE_1-F1_CGCATGAT-TCAGGCTT_S1</td>\n",
       "      <td>FEMALE_1</td>\n",
       "      <td>Colombia: Rio Claro</td>\n",
       "      <td>F</td>\n",
       "      <td>1</td>\n",
       "      <td>FEMALE_1-F1_CGCATGAT-TCAGGCTT_S1</td>\n",
       "      <td>Colombia</td>\n",
       "      <td>Rio Claro</td>\n",
       "    </tr>\n",
       "    <tr>\n",
       "      <th>1</th>\n",
       "      <td>FEMALE_10-F10_GTGCCATA-ACTAGGAG_S2</td>\n",
       "      <td>FEMALE_10</td>\n",
       "      <td>Colombia: Rio Claro</td>\n",
       "      <td>F</td>\n",
       "      <td>1</td>\n",
       "      <td>FEMALE_10-F10_GTGCCATA-ACTAGGAG_S2</td>\n",
       "      <td>Colombia</td>\n",
       "      <td>Rio Claro</td>\n",
       "    </tr>\n",
       "    <tr>\n",
       "      <th>2</th>\n",
       "      <td>FEMALE_11-F11_CGTTGCAA-CGCTCTAT_S3</td>\n",
       "      <td>FEMALE_11</td>\n",
       "      <td>Colombia: Rio Claro</td>\n",
       "      <td>F</td>\n",
       "      <td>1</td>\n",
       "      <td>FEMALE_11-F11_CGTTGCAA-CGCTCTAT_S3</td>\n",
       "      <td>Colombia</td>\n",
       "      <td>Rio Claro</td>\n",
       "    </tr>\n",
       "    <tr>\n",
       "      <th>3</th>\n",
       "      <td>FEMALE_12-F12_TGAAGACG-TGGCATGT_S4</td>\n",
       "      <td>FEMALE_12</td>\n",
       "      <td>Colombia: Rio Claro</td>\n",
       "      <td>F</td>\n",
       "      <td>1</td>\n",
       "      <td>FEMALE_12-F12_TGAAGACG-TGGCATGT_S4</td>\n",
       "      <td>Colombia</td>\n",
       "      <td>Rio Claro</td>\n",
       "    </tr>\n",
       "    <tr>\n",
       "      <th>4</th>\n",
       "      <td>FEMALE_14-F14_ACGTTCAG-GCACAACT_S6</td>\n",
       "      <td>FEMALE_14</td>\n",
       "      <td>Colombia: Rio Claro</td>\n",
       "      <td>F</td>\n",
       "      <td>1</td>\n",
       "      <td>FEMALE_14-F14_ACGTTCAG-GCACAACT_S6</td>\n",
       "      <td>Colombia</td>\n",
       "      <td>Rio Claro</td>\n",
       "    </tr>\n",
       "  </tbody>\n",
       "</table>\n",
       "</div>"
      ],
      "text/plain": [
       "                            sample_id sample_short             location sex  \\\n",
       "0    FEMALE_1-F1_CGCATGAT-TCAGGCTT_S1     FEMALE_1  Colombia: Rio Claro   F   \n",
       "1  FEMALE_10-F10_GTGCCATA-ACTAGGAG_S2    FEMALE_10  Colombia: Rio Claro   F   \n",
       "2  FEMALE_11-F11_CGTTGCAA-CGCTCTAT_S3    FEMALE_11  Colombia: Rio Claro   F   \n",
       "3  FEMALE_12-F12_TGAAGACG-TGGCATGT_S4    FEMALE_12  Colombia: Rio Claro   F   \n",
       "4  FEMALE_14-F14_ACGTTCAG-GCACAACT_S6    FEMALE_14  Colombia: Rio Claro   F   \n",
       "\n",
       "  batch                       sample_id_cat   country   locality  \n",
       "0     1    FEMALE_1-F1_CGCATGAT-TCAGGCTT_S1  Colombia  Rio Claro  \n",
       "1     1  FEMALE_10-F10_GTGCCATA-ACTAGGAG_S2  Colombia  Rio Claro  \n",
       "2     1  FEMALE_11-F11_CGTTGCAA-CGCTCTAT_S3  Colombia  Rio Claro  \n",
       "3     1  FEMALE_12-F12_TGAAGACG-TGGCATGT_S4  Colombia  Rio Claro  \n",
       "4     1  FEMALE_14-F14_ACGTTCAG-GCACAACT_S6  Colombia  Rio Claro  "
      ]
     },
     "execution_count": 6,
     "metadata": {},
     "output_type": "execute_result"
    }
   ],
   "source": [
    "md = pd.read_table(\n",
    "    md_path + \"whole_sample_sorted_country.031522.csv\", \n",
    "    sep=\"\\t\",)\n",
    "\n",
    "md[\"locality\"] = md[\"location\"].str.split(\": \", expand=True)[1]\n",
    "\n",
    "md.head()"
   ]
  },
  {
   "cell_type": "markdown",
   "metadata": {},
   "source": [
    "##### remove close kin"
   ]
  },
  {
   "cell_type": "code",
   "execution_count": 7,
   "metadata": {},
   "outputs": [
    {
     "data": {
      "text/plain": [
       "array(['SRR11006849', 'SRR11006846', 'SRR6768018', 'FEMALE_17',\n",
       "       'FEMALE_22', 'SRR11006674', 'SRR11006683', 'SRR11006754'],\n",
       "      dtype='<U11')"
      ]
     },
     "execution_count": 7,
     "metadata": {},
     "output_type": "execute_result"
    }
   ],
   "source": [
    "to_drop = np.loadtxt(md_path + \"close_kin_removed_new_dataset.txt\", dtype=\"str\")\n",
    "\n",
    "to_drop"
   ]
  },
  {
   "cell_type": "code",
   "execution_count": 8,
   "metadata": {},
   "outputs": [
    {
     "data": {
      "text/plain": [
       "123"
      ]
     },
     "execution_count": 8,
     "metadata": {},
     "output_type": "execute_result"
    }
   ],
   "source": [
    "to_drop_bool = (~(md[\"sample_short\"].isin(to_drop)).values)\n",
    "\n",
    "np.sum(to_drop_bool)"
   ]
  },
  {
   "cell_type": "code",
   "execution_count": 9,
   "metadata": {},
   "outputs": [
    {
     "data": {
      "text/plain": [
       "(123, 8)"
      ]
     },
     "execution_count": 9,
     "metadata": {},
     "output_type": "execute_result"
    }
   ],
   "source": [
    "md_filtered = md.loc[to_drop_bool]\n",
    "\n",
    "md_filtered.shape"
   ]
  },
  {
   "cell_type": "code",
   "execution_count": 10,
   "metadata": {},
   "outputs": [
    {
     "data": {
      "text/plain": [
       "dict_keys(['Colombia', 'Kenya', 'Senegal', 'Gabon', 'Brazil', 'USA'])"
      ]
     },
     "execution_count": 10,
     "metadata": {},
     "output_type": "execute_result"
    }
   ],
   "source": [
    "countries = md_filtered[\"country\"].unique()\n",
    "\n",
    "country_bools = {}\n",
    "\n",
    "for country in countries:\n",
    "    \n",
    "    country_bools[country] = (md_filtered[\"country\"] == country).values\n",
    "    \n",
    "country_bools.keys()"
   ]
  },
  {
   "cell_type": "code",
   "execution_count": 11,
   "metadata": {},
   "outputs": [
    {
     "data": {
      "text/plain": [
       "[('Colombia', 32),\n",
       " ('Kenya', 17),\n",
       " ('Senegal', 19),\n",
       " ('Gabon', 13),\n",
       " ('Brazil', 16),\n",
       " ('USA', 26)]"
      ]
     },
     "execution_count": 11,
     "metadata": {},
     "output_type": "execute_result"
    }
   ],
   "source": [
    "[(key, np.sum(country_bools[key])) for key in country_bools.keys()]"
   ]
  },
  {
   "cell_type": "markdown",
   "metadata": {
    "tags": []
   },
   "source": [
    "##### focal SNPs: \n",
    "315939224 (not called in this dataset)\n",
    "\n",
    "315983763\n",
    "\n",
    "315999297\n",
    "\n",
    "316014588\n",
    "\n",
    "316080722"
   ]
  },
  {
   "cell_type": "code",
   "execution_count": 12,
   "metadata": {},
   "outputs": [],
   "source": [
    "focal_snps = [315939224, 315983763, 315999297, 316014588, 316080722]\n",
    "pos = chroms_dict[chrom][\"pos\"].compute()"
   ]
  },
  {
   "cell_type": "code",
   "execution_count": 13,
   "metadata": {},
   "outputs": [
    {
     "name": "stdout",
     "output_type": "stream",
     "text": [
      "315939224 0\n",
      "315983763 1\n",
      "315999297 1\n",
      "316014588 1\n",
      "316080722 1\n"
     ]
    }
   ],
   "source": [
    "focal_snps_dict = {}\n",
    "\n",
    "for snp in focal_snps:\n",
    "    \n",
    "    focal_snps_dict[snp] = (pos == snp)\n",
    "    \n",
    "    print(snp, np.sum(focal_snps_dict[snp]))"
   ]
  },
  {
   "cell_type": "code",
   "execution_count": 14,
   "metadata": {},
   "outputs": [
    {
     "name": "stdout",
     "output_type": "stream",
     "text": [
      "Colombia\n",
      "315939224\n",
      "315983763\n",
      "homozygous ref:  6\n",
      "het:  16\n",
      "homozygous alt:  9\n",
      "missing:  1 \n",
      "\n",
      "315999297\n",
      "homozygous ref:  6\n",
      "het:  15\n",
      "homozygous alt:  9\n",
      "missing:  2 \n",
      "\n",
      "316014588\n",
      "homozygous ref:  4\n",
      "het:  14\n",
      "homozygous alt:  8\n",
      "missing:  6 \n",
      "\n",
      "316080722\n",
      "homozygous ref:  6\n",
      "het:  16\n",
      "homozygous alt:  10\n",
      "missing:  0 \n",
      "\n",
      "Kenya\n",
      "315939224\n",
      "315983763\n",
      "homozygous ref:  17\n",
      "het:  0\n",
      "homozygous alt:  0\n",
      "missing:  0 \n",
      "\n",
      "315999297\n",
      "homozygous ref:  4\n",
      "het:  10\n",
      "homozygous alt:  2\n",
      "missing:  1 \n",
      "\n",
      "316014588\n",
      "homozygous ref:  14\n",
      "het:  0\n",
      "homozygous alt:  0\n",
      "missing:  3 \n",
      "\n",
      "316080722\n",
      "homozygous ref:  16\n",
      "het:  0\n",
      "homozygous alt:  0\n",
      "missing:  1 \n",
      "\n",
      "Senegal\n",
      "315939224\n",
      "315983763\n",
      "homozygous ref:  18\n",
      "het:  0\n",
      "homozygous alt:  0\n",
      "missing:  1 \n",
      "\n",
      "315999297\n",
      "homozygous ref:  8\n",
      "het:  9\n",
      "homozygous alt:  0\n",
      "missing:  2 \n",
      "\n",
      "316014588\n",
      "homozygous ref:  18\n",
      "het:  0\n",
      "homozygous alt:  0\n",
      "missing:  1 \n",
      "\n",
      "316080722\n",
      "homozygous ref:  19\n",
      "het:  0\n",
      "homozygous alt:  0\n",
      "missing:  0 \n",
      "\n",
      "Gabon\n",
      "315939224\n",
      "315983763\n",
      "homozygous ref:  12\n",
      "het:  0\n",
      "homozygous alt:  0\n",
      "missing:  1 \n",
      "\n",
      "315999297\n",
      "homozygous ref:  11\n",
      "het:  1\n",
      "homozygous alt:  0\n",
      "missing:  1 \n",
      "\n",
      "316014588\n",
      "homozygous ref:  11\n",
      "het:  0\n",
      "homozygous alt:  0\n",
      "missing:  2 \n",
      "\n",
      "316080722\n",
      "homozygous ref:  10\n",
      "het:  0\n",
      "homozygous alt:  0\n",
      "missing:  3 \n",
      "\n",
      "Brazil\n",
      "315939224\n",
      "315983763\n",
      "homozygous ref:  14\n",
      "het:  0\n",
      "homozygous alt:  0\n",
      "missing:  2 \n",
      "\n",
      "315999297\n",
      "homozygous ref:  14\n",
      "het:  0\n",
      "homozygous alt:  0\n",
      "missing:  2 \n",
      "\n",
      "316014588\n",
      "homozygous ref:  15\n",
      "het:  0\n",
      "homozygous alt:  0\n",
      "missing:  1 \n",
      "\n",
      "316080722\n",
      "homozygous ref:  15\n",
      "het:  0\n",
      "homozygous alt:  0\n",
      "missing:  1 \n",
      "\n",
      "USA\n",
      "315939224\n",
      "315983763\n",
      "homozygous ref:  5\n",
      "het:  4\n",
      "homozygous alt:  14\n",
      "missing:  3 \n",
      "\n",
      "315999297\n",
      "homozygous ref:  2\n",
      "het:  3\n",
      "homozygous alt:  15\n",
      "missing:  6 \n",
      "\n",
      "316014588\n",
      "homozygous ref:  8\n",
      "het:  3\n",
      "homozygous alt:  12\n",
      "missing:  3 \n",
      "\n",
      "316080722\n",
      "homozygous ref:  4\n",
      "het:  5\n",
      "homozygous alt:  13\n",
      "missing:  4 \n",
      "\n"
     ]
    }
   ],
   "source": [
    "for country, country_flt in country_bools.items():\n",
    "    \n",
    "    print(country)\n",
    "    \n",
    "    gt = allel.GenotypeArray(chroms_dict[chrom][\"gt\"])\\\n",
    "    .subset(sel1 = to_drop_bool).subset(\n",
    "        sel1 = country_flt)\n",
    "\n",
    "    gq = chroms_dict[chrom][\"gq\"].compute()[:, to_drop_bool][:, country_flt]\n",
    "    \n",
    "    gt.mask = gq < 20\n",
    "    \n",
    "    for snp in focal_snps:\n",
    "    \n",
    "        pos_flt = focal_snps_dict[snp]\n",
    "        \n",
    "        print(snp)\n",
    "        \n",
    "        if np.sum(pos_flt) > 0:\n",
    "\n",
    "            print(\"homozygous ref: \", gt.subset(sel0 = pos_flt).count_hom_ref())\n",
    "            print(\"het: \", gt.subset(sel0 = pos_flt).count_het())\n",
    "            print(\"homozygous alt: \", gt.subset(sel0 = pos_flt).count_hom_alt())\n",
    "            print(\"missing: \", np.sum(gt.subset(sel0 = pos_flt).is_missing()), \"\\n\")\n"
   ]
  },
  {
   "cell_type": "markdown",
   "metadata": {},
   "source": [
    "##### read in the mpileup data to re-calculate genotypes for F1534C (315939224)"
   ]
  },
  {
   "cell_type": "code",
   "execution_count": 15,
   "metadata": {},
   "outputs": [
    {
     "name": "stderr",
     "output_type": "stream",
     "text": [
      "/nas/longleaf/home/rrlove/.conda/envs/rrlove/lib/python3.8/site-packages/allel/io/vcf_read.py:1732: UserWarning: invalid INFO header: '##INFO=<ID=VDB,Number=1,Type=Float,Description=\"Variant Distance Bias for filtering splice-site artefacts in RNA-seq data (bigger is better)\",Version=\"3\">\\n'\n",
      "  warnings.warn('invalid INFO header: %r' % header)\n"
     ]
    },
    {
     "data": {
      "text/plain": [
       "dict_keys(['samples', 'calldata/GP', 'calldata/GQ', 'calldata/GT', 'calldata/PL', 'variants/AC', 'variants/ALT', 'variants/AN', 'variants/BQB', 'variants/CHROM', 'variants/DP', 'variants/DP4', 'variants/FILTER_PASS', 'variants/HOB', 'variants/ICB', 'variants/ID', 'variants/IDV', 'variants/IMF', 'variants/INDEL', 'variants/MQ', 'variants/MQ0F', 'variants/MQB', 'variants/MQSB', 'variants/POS', 'variants/QUAL', 'variants/REF', 'variants/RPB', 'variants/SGB', 'variants/altlen', 'variants/is_snp', 'variants/numalt'])"
      ]
     },
     "execution_count": 15,
     "metadata": {},
     "output_type": "execute_result"
    }
   ],
   "source": [
    "vcf = allel.read_vcf(\n",
    "    \"/proj/dschridelab/rrlove/aedes/vcf/Vssc/AaegL5_3_Vssc_mpileup.vcf.gz\", \n",
    "                     fields=[\"*\"])\n",
    "\n",
    "vcf.keys()"
   ]
  },
  {
   "cell_type": "code",
   "execution_count": 16,
   "metadata": {},
   "outputs": [
    {
     "data": {
      "text/html": [
       "<div>\n",
       "<style scoped>\n",
       "    .dataframe tbody tr th:only-of-type {\n",
       "        vertical-align: middle;\n",
       "    }\n",
       "\n",
       "    .dataframe tbody tr th {\n",
       "        vertical-align: top;\n",
       "    }\n",
       "\n",
       "    .dataframe thead th {\n",
       "        text-align: right;\n",
       "    }\n",
       "</style>\n",
       "<table border=\"1\" class=\"dataframe\">\n",
       "  <thead>\n",
       "    <tr style=\"text-align: right;\">\n",
       "      <th></th>\n",
       "      <th>sample_id</th>\n",
       "      <th>sample_short</th>\n",
       "      <th>location</th>\n",
       "      <th>sex</th>\n",
       "      <th>batch</th>\n",
       "      <th>sample_id_cat</th>\n",
       "      <th>country</th>\n",
       "      <th>locality</th>\n",
       "    </tr>\n",
       "  </thead>\n",
       "  <tbody>\n",
       "    <tr>\n",
       "      <th>96</th>\n",
       "      <td>SRR11006847</td>\n",
       "      <td>SRR11006847</td>\n",
       "      <td>Brazil: Santarem</td>\n",
       "      <td>NaN</td>\n",
       "      <td>PRJNA602495</td>\n",
       "      <td>SRR11006847</td>\n",
       "      <td>Brazil</td>\n",
       "      <td>Santarem</td>\n",
       "    </tr>\n",
       "    <tr>\n",
       "      <th>82</th>\n",
       "      <td>SRR11006830</td>\n",
       "      <td>SRR11006830</td>\n",
       "      <td>Gabon: Franceville</td>\n",
       "      <td>NaN</td>\n",
       "      <td>PRJNA602495</td>\n",
       "      <td>SRR11006830</td>\n",
       "      <td>Gabon</td>\n",
       "      <td>Franceville</td>\n",
       "    </tr>\n",
       "    <tr>\n",
       "      <th>35</th>\n",
       "      <td>SRR11006666</td>\n",
       "      <td>SRR11006666</td>\n",
       "      <td>Kenya: KayaBomu</td>\n",
       "      <td>NaN</td>\n",
       "      <td>PRJNA602495</td>\n",
       "      <td>SRR11006666</td>\n",
       "      <td>Kenya</td>\n",
       "      <td>KayaBomu</td>\n",
       "    </tr>\n",
       "    <tr>\n",
       "      <th>76</th>\n",
       "      <td>SRR11006824</td>\n",
       "      <td>SRR11006824</td>\n",
       "      <td>Gabon: Franceville</td>\n",
       "      <td>NaN</td>\n",
       "      <td>PRJNA602495</td>\n",
       "      <td>SRR11006824</td>\n",
       "      <td>Gabon</td>\n",
       "      <td>Franceville</td>\n",
       "    </tr>\n",
       "    <tr>\n",
       "      <th>80</th>\n",
       "      <td>SRR11006828</td>\n",
       "      <td>SRR11006828</td>\n",
       "      <td>Gabon: Franceville</td>\n",
       "      <td>NaN</td>\n",
       "      <td>PRJNA602495</td>\n",
       "      <td>SRR11006828</td>\n",
       "      <td>Gabon</td>\n",
       "      <td>Franceville</td>\n",
       "    </tr>\n",
       "  </tbody>\n",
       "</table>\n",
       "</div>"
      ],
      "text/plain": [
       "      sample_id sample_short            location  sex        batch  \\\n",
       "96  SRR11006847  SRR11006847    Brazil: Santarem  NaN  PRJNA602495   \n",
       "82  SRR11006830  SRR11006830  Gabon: Franceville  NaN  PRJNA602495   \n",
       "35  SRR11006666  SRR11006666     Kenya: KayaBomu  NaN  PRJNA602495   \n",
       "76  SRR11006824  SRR11006824  Gabon: Franceville  NaN  PRJNA602495   \n",
       "80  SRR11006828  SRR11006828  Gabon: Franceville  NaN  PRJNA602495   \n",
       "\n",
       "   sample_id_cat country     locality  \n",
       "96   SRR11006847  Brazil     Santarem  \n",
       "82   SRR11006830   Gabon  Franceville  \n",
       "35   SRR11006666   Kenya     KayaBomu  \n",
       "76   SRR11006824   Gabon  Franceville  \n",
       "80   SRR11006828   Gabon  Franceville  "
      ]
     },
     "execution_count": 16,
     "metadata": {},
     "output_type": "execute_result"
    }
   ],
   "source": [
    "md_vcf = md.copy()\n",
    "\n",
    "md_vcf[\"sample_id_cat\"] = md_vcf[\"sample_id\"].astype(\"category\")\n",
    "\n",
    "md_vcf[\"sample_id_cat\"].cat.set_categories(pd.Series(vcf[\"samples\"]), \n",
    "                                   inplace=True)\n",
    "\n",
    "md_vcf.sort_values(\"sample_id_cat\", inplace=True)\n",
    "\n",
    "md_vcf.head()"
   ]
  },
  {
   "cell_type": "code",
   "execution_count": 17,
   "metadata": {},
   "outputs": [
    {
     "data": {
      "text/plain": [
       "0"
      ]
     },
     "execution_count": 17,
     "metadata": {},
     "output_type": "execute_result"
    }
   ],
   "source": [
    "np.sum(~(md_vcf[\"sample_id\"] == vcf[\"samples\"]))"
   ]
  },
  {
   "cell_type": "code",
   "execution_count": 18,
   "metadata": {},
   "outputs": [
    {
     "data": {
      "text/plain": [
       "(347281, 131, 2)"
      ]
     },
     "execution_count": 18,
     "metadata": {},
     "output_type": "execute_result"
    }
   ],
   "source": [
    "gt = allel.GenotypeArray(vcf[\"calldata/GT\"][vcf[\"variants/is_snp\"]])\n",
    "\n",
    "gt_2 = allel.GenotypeArray(vcf[\"calldata/GT\"][vcf[\"variants/is_snp\"]])\n",
    "\n",
    "gt.shape"
   ]
  },
  {
   "cell_type": "code",
   "execution_count": 19,
   "metadata": {},
   "outputs": [],
   "source": [
    "gq = vcf[\"calldata/GQ\"][vcf[\"variants/is_snp\"]]\n",
    "\n",
    "pos = allel.SortedIndex(vcf[\"variants/POS\"][vcf[\"variants/is_snp\"]])"
   ]
  },
  {
   "cell_type": "code",
   "execution_count": null,
   "metadata": {},
   "outputs": [],
   "source": []
  },
  {
   "cell_type": "markdown",
   "metadata": {},
   "source": [
    "##### ID specimens to drop"
   ]
  },
  {
   "cell_type": "code",
   "execution_count": 20,
   "metadata": {},
   "outputs": [
    {
     "data": {
      "text/plain": [
       "123"
      ]
     },
     "execution_count": 20,
     "metadata": {},
     "output_type": "execute_result"
    }
   ],
   "source": [
    "to_drop_bool_vcf = (~(md_vcf[\"sample_short\"].isin(to_drop)).values)\n",
    "\n",
    "np.sum(to_drop_bool_vcf)"
   ]
  },
  {
   "cell_type": "code",
   "execution_count": 21,
   "metadata": {},
   "outputs": [
    {
     "data": {
      "text/plain": [
       "(123, 8)"
      ]
     },
     "execution_count": 21,
     "metadata": {},
     "output_type": "execute_result"
    }
   ],
   "source": [
    "md_filtered_vcf = md_vcf.loc[to_drop_bool_vcf]\n",
    "\n",
    "md_filtered_vcf.shape"
   ]
  },
  {
   "cell_type": "code",
   "execution_count": 22,
   "metadata": {},
   "outputs": [
    {
     "data": {
      "text/plain": [
       "dict_keys(['Colombia', 'Kenya', 'Senegal', 'Gabon', 'Brazil', 'USA'])"
      ]
     },
     "execution_count": 22,
     "metadata": {},
     "output_type": "execute_result"
    }
   ],
   "source": [
    "country_bools_vcf = {}\n",
    "\n",
    "for country in countries:\n",
    "    \n",
    "    country_bools_vcf[country] = (md_filtered_vcf[\"country\"] == country).values\n",
    "    \n",
    "country_bools_vcf.keys()"
   ]
  },
  {
   "cell_type": "code",
   "execution_count": 23,
   "metadata": {},
   "outputs": [
    {
     "data": {
      "text/plain": [
       "1"
      ]
     },
     "execution_count": 23,
     "metadata": {},
     "output_type": "execute_result"
    }
   ],
   "source": [
    "pos_flt = (pos == 315939224)\n",
    "\n",
    "np.sum(pos_flt)"
   ]
  },
  {
   "cell_type": "code",
   "execution_count": 24,
   "metadata": {},
   "outputs": [
    {
     "name": "stdout",
     "output_type": "stream",
     "text": [
      "Colombia\n",
      "homozygous ref:  0\n",
      "het:  0\n",
      "homozygous alt:  32\n",
      "missing:  0 \n",
      "\n",
      "homozygous ref, masked:  0\n",
      "het, masked:  0\n",
      "homozygous alt, masked:  19\n",
      "missing, masked:  13 \n",
      "\n",
      "Kenya\n",
      "homozygous ref:  15\n",
      "het:  0\n",
      "homozygous alt:  2\n",
      "missing:  0 \n",
      "\n",
      "homozygous ref, masked:  0\n",
      "het, masked:  0\n",
      "homozygous alt, masked:  0\n",
      "missing, masked:  17 \n",
      "\n",
      "Senegal\n",
      "homozygous ref:  19\n",
      "het:  0\n",
      "homozygous alt:  0\n",
      "missing:  0 \n",
      "\n",
      "homozygous ref, masked:  7\n",
      "het, masked:  0\n",
      "homozygous alt, masked:  0\n",
      "missing, masked:  12 \n",
      "\n",
      "Gabon\n",
      "homozygous ref:  13\n",
      "het:  0\n",
      "homozygous alt:  0\n",
      "missing:  0 \n",
      "\n",
      "homozygous ref, masked:  2\n",
      "het, masked:  0\n",
      "homozygous alt, masked:  0\n",
      "missing, masked:  11 \n",
      "\n",
      "Brazil\n",
      "homozygous ref:  0\n",
      "het:  0\n",
      "homozygous alt:  16\n",
      "missing:  0 \n",
      "\n",
      "homozygous ref, masked:  0\n",
      "het, masked:  0\n",
      "homozygous alt, masked:  1\n",
      "missing, masked:  15 \n",
      "\n",
      "USA\n",
      "homozygous ref:  3\n",
      "het:  0\n",
      "homozygous alt:  23\n",
      "missing:  0 \n",
      "\n",
      "homozygous ref, masked:  0\n",
      "het, masked:  0\n",
      "homozygous alt, masked:  3\n",
      "missing, masked:  23 \n",
      "\n"
     ]
    }
   ],
   "source": [
    "for country, country_flt in country_bools_vcf.items():\n",
    "    \n",
    "    print(country)\n",
    "    \n",
    "    gt_chunk = \\\n",
    "    gt.subset(sel0 = pos_flt, sel1 = to_drop_bool_vcf).subset(sel1 = country_flt)\n",
    "\n",
    "    gq_chunk = gq[pos_flt, :][:, to_drop_bool_vcf][:, country_flt]\n",
    "    \n",
    "    print(\"homozygous ref: \", gt_chunk.count_hom_ref())\n",
    "    print(\"het: \", gt_chunk.count_het())\n",
    "    print(\"homozygous alt: \", gt_chunk.count_hom_alt())\n",
    "    print(\"missing: \", np.sum(gt_chunk.is_missing()), \"\\n\")\n",
    "    \n",
    "    ##then, mask\n",
    "    \n",
    "    gt_chunk.mask = gq_chunk < 20\n",
    "    \n",
    "    print(\"homozygous ref, masked: \", gt_chunk.count_hom_ref())\n",
    "    print(\"het, masked: \", gt_chunk.count_het())\n",
    "    print(\"homozygous alt, masked: \", gt_chunk.count_hom_alt())\n",
    "    print(\"missing, masked: \", np.sum(gt_chunk.is_missing()), \"\\n\")\n"
   ]
  },
  {
   "cell_type": "code",
   "execution_count": null,
   "metadata": {},
   "outputs": [],
   "source": []
  },
  {
   "cell_type": "code",
   "execution_count": null,
   "metadata": {},
   "outputs": [],
   "source": []
  },
  {
   "cell_type": "code",
   "execution_count": null,
   "metadata": {},
   "outputs": [],
   "source": []
  }
 ],
 "metadata": {
  "kernelspec": {
   "display_name": "rrlove",
   "language": "python",
   "name": "rrlove"
  },
  "language_info": {
   "codemirror_mode": {
    "name": "ipython",
    "version": 3
   },
   "file_extension": ".py",
   "mimetype": "text/x-python",
   "name": "python",
   "nbconvert_exporter": "python",
   "pygments_lexer": "ipython3",
   "version": "3.8.5"
  }
 },
 "nbformat": 4,
 "nbformat_minor": 4
}
