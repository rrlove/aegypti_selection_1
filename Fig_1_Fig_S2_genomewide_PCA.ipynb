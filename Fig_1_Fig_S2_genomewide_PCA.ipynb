{
 "cells": [
  {
   "cell_type": "markdown",
   "metadata": {},
   "source": [
    "##### Figure 1: per-chromosome and whole genome PCA\n",
    "##### Figure S2: skree plot"
   ]
  },
  {
   "cell_type": "code",
   "execution_count": 1,
   "metadata": {},
   "outputs": [],
   "source": [
    "from collections import defaultdict\n",
    "import dask.array as da\n",
    "import matplotlib.pyplot as plt\n",
    "import numpy as np\n",
    "import pandas as pd\n",
    "import re\n",
    "\n",
    "import allel\n",
    "import ingenos"
   ]
  },
  {
   "cell_type": "code",
   "execution_count": 2,
   "metadata": {},
   "outputs": [],
   "source": [
    "base_path = \"/overflow/dschridelab/users/rrlove/aedes/\"\n",
    "md_path = f\"{base_path}metadata/\"\n",
    "results_path = f\"{base_path}results/\"\n",
    "zarr_path = \"/proj/dschridelab/rrlove/aedes/vcf/filtered_110122/\""
   ]
  },
  {
   "cell_type": "code",
   "execution_count": 3,
   "metadata": {},
   "outputs": [],
   "source": [
    "def return_data(zarr_path, data_type, data_name):\n",
    "    \n",
    "    fetch_str = f\"{data_type}/{data_name}\" \n",
    "    \n",
    "    return da.from_zarr(zarr_path, component=fetch_str)"
   ]
  },
  {
   "cell_type": "code",
   "execution_count": 4,
   "metadata": {},
   "outputs": [
    {
     "name": "stdout",
     "output_type": "stream",
     "text": [
      "AaegL5_1 (18443972, 131, 2)\n",
      "AaegL5_2 (32930875, 131, 2)\n",
      "AaegL5_3 (27660249, 131, 2)\n"
     ]
    }
   ],
   "source": [
    "chroms_dict = defaultdict(dict)\n",
    "\n",
    "countries = [\"Brazil\", \"Colombia\", \"USA\", \"Gabon\", \"Kenya\", \"Senegal\"]\n",
    "chroms = [\"AaegL5_1\", \"AaegL5_2\", \"AaegL5_3\"]\n",
    "\n",
    "for chrom in chroms:\n",
    "    \n",
    "    temp_in_path = zarr_path + chrom\n",
    "\n",
    "    chroms_dict[chrom][\"pos\"] = return_data(temp_in_path, \"variants\", \"POS\")\n",
    "    chroms_dict[chrom][\"chrom\"] = return_data(temp_in_path, \"variants\", \"CHROM\")\n",
    "    chroms_dict[chrom][\"ref\"] = return_data(temp_in_path, \"variants\", \"REF\")\n",
    "    chroms_dict[chrom][\"alt\"] = return_data(temp_in_path, \"variants\", \"ALT\")\n",
    "    chroms_dict[chrom][\"ac\"] = return_data(temp_in_path, \"variants\", \"AC\")\n",
    "    chroms_dict[chrom][\"qd\"] = return_data(temp_in_path, \"variants\", \"QD\")\n",
    "    chroms_dict[chrom][\"mq\"] = return_data(temp_in_path, \"variants\", \"MQ\")\n",
    "    chroms_dict[chrom][\"fs\"] = return_data(temp_in_path, \"variants\", \"FS\")\n",
    "    chroms_dict[chrom][\"mqrs\"] = return_data(temp_in_path, \"variants\", \"MQRankSum\")\n",
    "    chroms_dict[chrom][\"rprs\"] = return_data(temp_in_path, \"variants\", \"ReadPosRankSum\")\n",
    "    chroms_dict[chrom][\"sor\"] = return_data(temp_in_path, \"variants\", \"SOR\")\n",
    "    chroms_dict[chrom][\"is_snp\"] = return_data(temp_in_path, \"variants\", \"is_snp\")\n",
    "    chroms_dict[chrom][\"numalt\"] = return_data(temp_in_path, \"variants\", \"numalt\")\n",
    "    chroms_dict[chrom][\"filter_pass\"] = return_data(temp_in_path, \"variants\", \"FILTER_PASS\")\n",
    "\n",
    "    chroms_dict[chrom][\"gt\"] = return_data(temp_in_path, \"calldata\", \"GT\")\n",
    "    chroms_dict[chrom][\"gq\"] = return_data(temp_in_path, \"calldata\", \"GQ\")\n",
    "    chroms_dict[chrom][\"ad\"] = return_data(temp_in_path, \"calldata\", \"AD\")\n",
    "    chroms_dict[chrom][\"pl\"] = return_data(temp_in_path, \"calldata\", \"PL\")\n",
    "    chroms_dict[chrom][\"dp\"] = return_data(temp_in_path, \"calldata\", \"DP\")\n",
    "    \n",
    "    print(chrom, chroms_dict[chrom][\"gt\"].shape)\n",
    "    \n",
    "samples = da.from_zarr(temp_in_path, component=\"samples\")"
   ]
  },
  {
   "cell_type": "code",
   "execution_count": 5,
   "metadata": {},
   "outputs": [
    {
     "data": {
      "text/plain": [
       "79035096"
      ]
     },
     "execution_count": 5,
     "metadata": {},
     "output_type": "execute_result"
    }
   ],
   "source": [
    "np.sum([chroms_dict[chrom][\"gt\"].shape[0] for chrom in chroms])"
   ]
  },
  {
   "cell_type": "markdown",
   "metadata": {},
   "source": [
    "##### read in the metadata"
   ]
  },
  {
   "cell_type": "code",
   "execution_count": 6,
   "metadata": {},
   "outputs": [
    {
     "data": {
      "text/html": [
       "<div>\n",
       "<style scoped>\n",
       "    .dataframe tbody tr th:only-of-type {\n",
       "        vertical-align: middle;\n",
       "    }\n",
       "\n",
       "    .dataframe tbody tr th {\n",
       "        vertical-align: top;\n",
       "    }\n",
       "\n",
       "    .dataframe thead th {\n",
       "        text-align: right;\n",
       "    }\n",
       "</style>\n",
       "<table border=\"1\" class=\"dataframe\">\n",
       "  <thead>\n",
       "    <tr style=\"text-align: right;\">\n",
       "      <th></th>\n",
       "      <th>sample_id</th>\n",
       "      <th>sample_short</th>\n",
       "      <th>location</th>\n",
       "      <th>sex</th>\n",
       "      <th>batch</th>\n",
       "      <th>sample_id_cat</th>\n",
       "      <th>country</th>\n",
       "      <th>locality</th>\n",
       "    </tr>\n",
       "  </thead>\n",
       "  <tbody>\n",
       "    <tr>\n",
       "      <th>0</th>\n",
       "      <td>FEMALE_1-F1_CGCATGAT-TCAGGCTT_S1</td>\n",
       "      <td>FEMALE_1</td>\n",
       "      <td>Colombia: Rio Claro</td>\n",
       "      <td>F</td>\n",
       "      <td>1</td>\n",
       "      <td>FEMALE_1-F1_CGCATGAT-TCAGGCTT_S1</td>\n",
       "      <td>Colombia</td>\n",
       "      <td>Rio Claro</td>\n",
       "    </tr>\n",
       "    <tr>\n",
       "      <th>1</th>\n",
       "      <td>FEMALE_10-F10_GTGCCATA-ACTAGGAG_S2</td>\n",
       "      <td>FEMALE_10</td>\n",
       "      <td>Colombia: Rio Claro</td>\n",
       "      <td>F</td>\n",
       "      <td>1</td>\n",
       "      <td>FEMALE_10-F10_GTGCCATA-ACTAGGAG_S2</td>\n",
       "      <td>Colombia</td>\n",
       "      <td>Rio Claro</td>\n",
       "    </tr>\n",
       "    <tr>\n",
       "      <th>2</th>\n",
       "      <td>FEMALE_11-F11_CGTTGCAA-CGCTCTAT_S3</td>\n",
       "      <td>FEMALE_11</td>\n",
       "      <td>Colombia: Rio Claro</td>\n",
       "      <td>F</td>\n",
       "      <td>1</td>\n",
       "      <td>FEMALE_11-F11_CGTTGCAA-CGCTCTAT_S3</td>\n",
       "      <td>Colombia</td>\n",
       "      <td>Rio Claro</td>\n",
       "    </tr>\n",
       "    <tr>\n",
       "      <th>3</th>\n",
       "      <td>FEMALE_12-F12_TGAAGACG-TGGCATGT_S4</td>\n",
       "      <td>FEMALE_12</td>\n",
       "      <td>Colombia: Rio Claro</td>\n",
       "      <td>F</td>\n",
       "      <td>1</td>\n",
       "      <td>FEMALE_12-F12_TGAAGACG-TGGCATGT_S4</td>\n",
       "      <td>Colombia</td>\n",
       "      <td>Rio Claro</td>\n",
       "    </tr>\n",
       "    <tr>\n",
       "      <th>4</th>\n",
       "      <td>FEMALE_14-F14_ACGTTCAG-GCACAACT_S6</td>\n",
       "      <td>FEMALE_14</td>\n",
       "      <td>Colombia: Rio Claro</td>\n",
       "      <td>F</td>\n",
       "      <td>1</td>\n",
       "      <td>FEMALE_14-F14_ACGTTCAG-GCACAACT_S6</td>\n",
       "      <td>Colombia</td>\n",
       "      <td>Rio Claro</td>\n",
       "    </tr>\n",
       "  </tbody>\n",
       "</table>\n",
       "</div>"
      ],
      "text/plain": [
       "                            sample_id sample_short             location sex  \\\n",
       "0    FEMALE_1-F1_CGCATGAT-TCAGGCTT_S1     FEMALE_1  Colombia: Rio Claro   F   \n",
       "1  FEMALE_10-F10_GTGCCATA-ACTAGGAG_S2    FEMALE_10  Colombia: Rio Claro   F   \n",
       "2  FEMALE_11-F11_CGTTGCAA-CGCTCTAT_S3    FEMALE_11  Colombia: Rio Claro   F   \n",
       "3  FEMALE_12-F12_TGAAGACG-TGGCATGT_S4    FEMALE_12  Colombia: Rio Claro   F   \n",
       "4  FEMALE_14-F14_ACGTTCAG-GCACAACT_S6    FEMALE_14  Colombia: Rio Claro   F   \n",
       "\n",
       "  batch                       sample_id_cat   country   locality  \n",
       "0     1    FEMALE_1-F1_CGCATGAT-TCAGGCTT_S1  Colombia  Rio Claro  \n",
       "1     1  FEMALE_10-F10_GTGCCATA-ACTAGGAG_S2  Colombia  Rio Claro  \n",
       "2     1  FEMALE_11-F11_CGTTGCAA-CGCTCTAT_S3  Colombia  Rio Claro  \n",
       "3     1  FEMALE_12-F12_TGAAGACG-TGGCATGT_S4  Colombia  Rio Claro  \n",
       "4     1  FEMALE_14-F14_ACGTTCAG-GCACAACT_S6  Colombia  Rio Claro  "
      ]
     },
     "execution_count": 6,
     "metadata": {},
     "output_type": "execute_result"
    }
   ],
   "source": [
    "md = pd.read_table(\n",
    "    md_path + \"whole_sample_sorted_country.031522.csv\", \n",
    "    sep=\"\\t\")\n",
    "\n",
    "md[\"locality\"] = md[\"location\"].str.split(\": \", expand=True)[1]\n",
    "\n",
    "md.head()"
   ]
  },
  {
   "cell_type": "code",
   "execution_count": 7,
   "metadata": {},
   "outputs": [
    {
     "data": {
      "text/plain": [
       "0"
      ]
     },
     "execution_count": 7,
     "metadata": {},
     "output_type": "execute_result"
    }
   ],
   "source": [
    "np.sum(~(md[\"sample_id\"] == samples.compute()))"
   ]
  },
  {
   "cell_type": "markdown",
   "metadata": {},
   "source": [
    "##### remove close kin"
   ]
  },
  {
   "cell_type": "code",
   "execution_count": 8,
   "metadata": {},
   "outputs": [
    {
     "data": {
      "text/plain": [
       "array(['SRR11006849', 'SRR11006846', 'SRR6768018', 'FEMALE_17',\n",
       "       'FEMALE_22', 'SRR11006674', 'SRR11006683', 'SRR11006754'],\n",
       "      dtype='<U11')"
      ]
     },
     "execution_count": 8,
     "metadata": {},
     "output_type": "execute_result"
    }
   ],
   "source": [
    "to_drop = np.loadtxt(\n",
    "    md_path + \"close_kin_removed_new_dataset.txt\", dtype=\"str\")\n",
    "\n",
    "to_drop"
   ]
  },
  {
   "cell_type": "code",
   "execution_count": 9,
   "metadata": {},
   "outputs": [
    {
     "data": {
      "text/plain": [
       "123"
      ]
     },
     "execution_count": 9,
     "metadata": {},
     "output_type": "execute_result"
    }
   ],
   "source": [
    "to_drop_bool = (~(md[\"sample_short\"].isin(to_drop)).values)\n",
    "\n",
    "np.sum(to_drop_bool)"
   ]
  },
  {
   "cell_type": "code",
   "execution_count": 10,
   "metadata": {},
   "outputs": [
    {
     "data": {
      "text/plain": [
       "(123, 8)"
      ]
     },
     "execution_count": 10,
     "metadata": {},
     "output_type": "execute_result"
    }
   ],
   "source": [
    "md_filtered = md.loc[to_drop_bool]\n",
    "\n",
    "md_filtered.shape"
   ]
  },
  {
   "cell_type": "markdown",
   "metadata": {},
   "source": [
    "##### read in the positions of poorly mappable and repetitive regions"
   ]
  },
  {
   "cell_type": "code",
   "execution_count": 11,
   "metadata": {},
   "outputs": [
    {
     "data": {
      "text/html": [
       "<div>\n",
       "<style scoped>\n",
       "    .dataframe tbody tr th:only-of-type {\n",
       "        vertical-align: middle;\n",
       "    }\n",
       "\n",
       "    .dataframe tbody tr th {\n",
       "        vertical-align: top;\n",
       "    }\n",
       "\n",
       "    .dataframe thead th {\n",
       "        text-align: right;\n",
       "    }\n",
       "</style>\n",
       "<table border=\"1\" class=\"dataframe\">\n",
       "  <thead>\n",
       "    <tr style=\"text-align: right;\">\n",
       "      <th></th>\n",
       "      <th>chrom</th>\n",
       "      <th>start</th>\n",
       "      <th>end</th>\n",
       "    </tr>\n",
       "  </thead>\n",
       "  <tbody>\n",
       "    <tr>\n",
       "      <th>0</th>\n",
       "      <td>AaegL5_1</td>\n",
       "      <td>0</td>\n",
       "      <td>273</td>\n",
       "    </tr>\n",
       "    <tr>\n",
       "      <th>1</th>\n",
       "      <td>AaegL5_1</td>\n",
       "      <td>297</td>\n",
       "      <td>373</td>\n",
       "    </tr>\n",
       "    <tr>\n",
       "      <th>2</th>\n",
       "      <td>AaegL5_1</td>\n",
       "      <td>413</td>\n",
       "      <td>7449</td>\n",
       "    </tr>\n",
       "    <tr>\n",
       "      <th>3</th>\n",
       "      <td>AaegL5_1</td>\n",
       "      <td>7452</td>\n",
       "      <td>8789</td>\n",
       "    </tr>\n",
       "    <tr>\n",
       "      <th>4</th>\n",
       "      <td>AaegL5_1</td>\n",
       "      <td>9854</td>\n",
       "      <td>18833</td>\n",
       "    </tr>\n",
       "  </tbody>\n",
       "</table>\n",
       "</div>"
      ],
      "text/plain": [
       "      chrom  start    end\n",
       "0  AaegL5_1      0    273\n",
       "1  AaegL5_1    297    373\n",
       "2  AaegL5_1    413   7449\n",
       "3  AaegL5_1   7452   8789\n",
       "4  AaegL5_1   9854  18833"
      ]
     },
     "execution_count": 11,
     "metadata": {},
     "output_type": "execute_result"
    }
   ],
   "source": [
    "mask = pd.read_table(\n",
    "    base_path + \"refs/aegy/unified_mask/merged_rep_map_masks.110822.bed\",\n",
    "sep=\"\\t\", names=[\"chrom\", \"start\", \"end\"])\n",
    "\n",
    "mask.head()"
   ]
  },
  {
   "cell_type": "markdown",
   "metadata": {},
   "source": [
    "##### figure 1"
   ]
  },
  {
   "cell_type": "code",
   "execution_count": 12,
   "metadata": {},
   "outputs": [
    {
     "data": {
      "text/plain": [
       "'/overflow/dschridelab/users/rrlove/aedes/results/popgen/PCA_2x2_with_labels.020823.pdf'"
      ]
     },
     "execution_count": 12,
     "metadata": {},
     "output_type": "execute_result"
    }
   ],
   "source": [
    "outString = ingenos.make_date_stamp(results_path + \\\n",
    "                                    \"popgen/PCA_2x2_with_labels\", \".pdf\")\n",
    "\n",
    "outString"
   ]
  },
  {
   "cell_type": "code",
   "execution_count": null,
   "metadata": {},
   "outputs": [],
   "source": []
  },
  {
   "cell_type": "code",
   "execution_count": 13,
   "metadata": {},
   "outputs": [
    {
     "name": "stderr",
     "output_type": "stream",
     "text": [
      "<ipython-input-13-a5a342d91c88>:22: PerformanceWarning: Slicing is producing a large chunk. To accept the large\n",
      "chunk and silence this warning, set the option\n",
      "    >>> with dask.config.set(**{'array.slicing.split_large_chunks': False}):\n",
      "    ...     array[indexer]\n",
      "\n",
      "To avoid creating the large chunks, set the option\n",
      "    >>> with dask.config.set(**{'array.slicing.split_large_chunks': True}):\n",
      "    ...     array[indexer]\n",
      "  gq_flt = chroms_dict[chrom][\"gq\"]\\\n"
     ]
    },
    {
     "name": "stdout",
     "output_type": "stream",
     "text": [
      "AaegL5_1\n"
     ]
    },
    {
     "name": "stderr",
     "output_type": "stream",
     "text": [
      "<ipython-input-13-a5a342d91c88>:22: PerformanceWarning: Slicing is producing a large chunk. To accept the large\n",
      "chunk and silence this warning, set the option\n",
      "    >>> with dask.config.set(**{'array.slicing.split_large_chunks': False}):\n",
      "    ...     array[indexer]\n",
      "\n",
      "To avoid creating the large chunks, set the option\n",
      "    >>> with dask.config.set(**{'array.slicing.split_large_chunks': True}):\n",
      "    ...     array[indexer]\n",
      "  gq_flt = chroms_dict[chrom][\"gq\"]\\\n"
     ]
    },
    {
     "name": "stdout",
     "output_type": "stream",
     "text": [
      "AaegL5_2\n"
     ]
    },
    {
     "name": "stderr",
     "output_type": "stream",
     "text": [
      "<ipython-input-13-a5a342d91c88>:22: PerformanceWarning: Slicing is producing a large chunk. To accept the large\n",
      "chunk and silence this warning, set the option\n",
      "    >>> with dask.config.set(**{'array.slicing.split_large_chunks': False}):\n",
      "    ...     array[indexer]\n",
      "\n",
      "To avoid creating the large chunks, set the option\n",
      "    >>> with dask.config.set(**{'array.slicing.split_large_chunks': True}):\n",
      "    ...     array[indexer]\n",
      "  gq_flt = chroms_dict[chrom][\"gq\"]\\\n"
     ]
    },
    {
     "name": "stdout",
     "output_type": "stream",
     "text": [
      "AaegL5_3\n"
     ]
    },
    {
     "data": {
      "image/png": "[encoded data removed]",
      "text/plain": [
       "<Figure size 1008x1008 with 4 Axes>"
      ]
     },
     "metadata": {
      "needs_background": "light"
     },
     "output_type": "display_data"
    }
   ],
   "source": [
    "by_chrom_alts = []\n",
    "\n",
    "fig, axes = plt.subplots(nrows=2, ncols=2, figsize=(14, 14))\n",
    "\n",
    "for i, chrom in enumerate(chroms):\n",
    "    \n",
    "    ax = axes.flatten()[i]\n",
    "    pos = allel.SortedIndex(chroms_dict[chrom][\"pos\"])\n",
    "    gt = chroms_dict[chrom][\"gt\"]\n",
    "    \n",
    "    chrom_mask = mask[mask[\"chrom\"] == chrom]\n",
    "    \n",
    "    ##drop low-quality and repetitive regions for each chrom\n",
    "    mask_flt = (~(pos.locate_ranges(chrom_mask[\"start\"] + 1, \n",
    "                                          chrom_mask[\"end\"],\n",
    "                                          strict=False)))\n",
    "        \n",
    "    gt_flt = allel.GenotypeArray(gt).subset(sel0 = mask_flt,\n",
    "                                            sel1 = to_drop_bool)\n",
    "    \n",
    "    ##mask genotypes with qualities below 20\n",
    "    gq_flt = chroms_dict[chrom][\"gq\"]\\\n",
    "    [:, to_drop_bool]\\\n",
    "    [mask_flt, :].compute()\n",
    "    \n",
    "    gt_flt.mask = gq_flt < 20\n",
    "    \n",
    "    allele_counts = allel.AlleleCountsArray(gt_flt.count_alleles())\n",
    "    \n",
    "    allele_counts_boolean = (allele_counts.max_allele() <= 2) &\\\n",
    "    (allele_counts[:, :2].min(axis=1) > 1) & (\n",
    "        allele_counts.to_frequencies()[:,1] > 0.05)\n",
    "\n",
    "    n_alts = gt_flt.subset(sel0 = allele_counts_boolean).to_n_alt()\n",
    "    \n",
    "    by_chrom_alts.append(n_alts)\n",
    "\n",
    "    coords, model = allel.pca(n_alts)\n",
    "\n",
    "    x = coords[:, 0]\n",
    "    y = coords[:, 1]\n",
    "\n",
    "    for country in countries:\n",
    "\n",
    "        flt = md_filtered[\"country\"] == country\n",
    "\n",
    "        ax.plot(x[flt], y[flt], linestyle = ' ', marker = \"o\", label=country,\n",
    "               alpha = 0.5)\n",
    "\n",
    "    ax.set_xlabel(f\"PC1 ({round(model.explained_variance_ratio_[0]*100, 2)} %)\", fontsize=15)\n",
    "    ax.set_ylabel(f\"PC2 ({round(model.explained_variance_ratio_[1]*100, 2)} %)\", fontsize=15)\n",
    "\n",
    "    ax.set_title(chrom, fontsize=15)\n",
    "    print(chrom)\n",
    "    \n",
    "##finally, add the whole-genome PCA\n",
    "ax = axes.flatten()[-1]\n",
    "\n",
    "all_alts = np.concatenate(by_chrom_alts)\n",
    "\n",
    "coords, model = allel.pca(all_alts)\n",
    "\n",
    "x = coords[:, 0]\n",
    "y = coords[:, 1]\n",
    "\n",
    "for country in countries:\n",
    "\n",
    "    flt = md_filtered[\"country\"] == country\n",
    "\n",
    "    ax.plot(x[flt], y[flt], linestyle = ' ', marker = \"o\", label=country,\n",
    "           alpha = 0.5)\n",
    "\n",
    "ax.set_xlabel(f\"PC1 ({round(model.explained_variance_ratio_[0]*100, 2)} %)\", fontsize=15)\n",
    "ax.set_ylabel(f\"PC2 ({round(model.explained_variance_ratio_[1]*100, 2)} %)\", fontsize=15)\n",
    "\n",
    "ax.set_title(\"Whole genome\", fontsize=15)\n",
    "\n",
    "ax.legend()\n",
    "\n",
    "##label each panel\n",
    "for i, ax in enumerate(axes.flatten()):\n",
    "    label = [\"a\",\"b\",\"c\",\"d\"][i]\n",
    "    ax.text(x=-0.05, y=1.025, s=label, transform=ax.transAxes, fontsize=20)\n",
    "\n",
    "#plt.savefig(outString, bbox_inches=\"tight\")"
   ]
  },
  {
   "cell_type": "markdown",
   "metadata": {},
   "source": [
    "##### total sites used:"
   ]
  },
  {
   "cell_type": "code",
   "execution_count": 14,
   "metadata": {},
   "outputs": [
    {
     "data": {
      "text/plain": [
       "9341399"
      ]
     },
     "execution_count": 14,
     "metadata": {},
     "output_type": "execute_result"
    }
   ],
   "source": [
    "len(all_alts)"
   ]
  },
  {
   "cell_type": "markdown",
   "metadata": {
    "tags": []
   },
   "source": [
    "##### add the skree plot for the whole genome panel (d)"
   ]
  },
  {
   "cell_type": "code",
   "execution_count": 15,
   "metadata": {},
   "outputs": [
    {
     "data": {
      "text/plain": [
       "'/overflow/dschridelab/users/rrlove/aedes/results/popgen/whole_genome_PCA_scree_plot.020823.pdf'"
      ]
     },
     "execution_count": 15,
     "metadata": {},
     "output_type": "execute_result"
    }
   ],
   "source": [
    "outString = ingenos.make_date_stamp(results_path + \\\n",
    "                                    \"popgen/whole_genome_PCA_scree_plot\", \".pdf\")\n",
    "\n",
    "outString"
   ]
  },
  {
   "cell_type": "code",
   "execution_count": 16,
   "metadata": {},
   "outputs": [
    {
     "data": {
      "text/plain": [
       "Text(0, 0.5, '% variance explained')"
      ]
     },
     "execution_count": 16,
     "metadata": {},
     "output_type": "execute_result"
    },
    {
     "data": {
      "image/png": "[encoded data removed]",
      "text/plain": [
       "<Figure size 1008x288 with 1 Axes>"
      ]
     },
     "metadata": {
      "needs_background": "light"
     },
     "output_type": "display_data"
    }
   ],
   "source": [
    "fig, ax = plt.subplots(figsize=(14,4))\n",
    "\n",
    "ax.plot(range(1,11), model.explained_variance_ratio_ * 100)\n",
    "\n",
    "ax.set_title(\"Percent variance explained by first ten principal components of whole genome PCA\", \n",
    "             fontsize=15)\n",
    "    \n",
    "ax.set_xlabel(\"Principal component #\", fontsize=15)\n",
    "ax.set_ylabel(\"% variance explained\", fontsize=15)\n",
    "\n",
    "#plt.savefig(outString, bbox_inches=\"tight\")"
   ]
  },
  {
   "cell_type": "code",
   "execution_count": null,
   "metadata": {},
   "outputs": [],
   "source": []
  },
  {
   "cell_type": "code",
   "execution_count": null,
   "metadata": {},
   "outputs": [],
   "source": []
  },
  {
   "cell_type": "code",
   "execution_count": null,
   "metadata": {},
   "outputs": [],
   "source": []
  },
  {
   "cell_type": "code",
   "execution_count": null,
   "metadata": {},
   "outputs": [],
   "source": []
  },
  {
   "cell_type": "code",
   "execution_count": null,
   "metadata": {},
   "outputs": [],
   "source": []
  }
 ],
 "metadata": {
  "kernelspec": {
   "display_name": "rrlove",
   "language": "python",
   "name": "rrlove"
  },
  "language_info": {
   "codemirror_mode": {
    "name": "ipython",
    "version": 3
   },
   "file_extension": ".py",
   "mimetype": "text/x-python",
   "name": "python",
   "nbconvert_exporter": "python",
   "pygments_lexer": "ipython3",
   "version": "3.8.5"
  }
 },
 "nbformat": 4,
 "nbformat_minor": 4
}
