{
 "cells": [
  {
   "cell_type": "markdown",
   "metadata": {},
   "source": [
    "##### Figure S8: gene enrichment results, as analyzed with gowinda, from putative sweep regigons"
   ]
  },
  {
   "cell_type": "code",
   "execution_count": 1,
   "metadata": {},
   "outputs": [],
   "source": [
    "from collections import defaultdict\n",
    "import glob\n",
    "import matplotlib.pyplot as plt\n",
    "import numpy as np\n",
    "import pandas as pd\n",
    "from pathlib import Path\n",
    "import re\n",
    "\n",
    "import itertools\n",
    "import seaborn as sns\n",
    "\n",
    "import ingenos"
   ]
  },
  {
   "cell_type": "code",
   "execution_count": 2,
   "metadata": {},
   "outputs": [],
   "source": [
    "base_path = \"/overflow/dschridelab/users/rrlove/aedes/\"\n",
    "results_path = f\"{base_path}results/\"\n",
    "gowinda_output_path = f\"{results_path}sweepfinder/genes/gowinda_outputs/\""
   ]
  },
  {
   "cell_type": "code",
   "execution_count": 3,
   "metadata": {},
   "outputs": [],
   "source": [
    "countries = [\"Brazil\", \"Colombia\", \"Gabon\", \"Kenya\", \"Senegal\", \"USA\"]"
   ]
  },
  {
   "cell_type": "markdown",
   "metadata": {},
   "source": [
    "##### read in each file"
   ]
  },
  {
   "cell_type": "code",
   "execution_count": 4,
   "metadata": {},
   "outputs": [
    {
     "name": "stdout",
     "output_type": "stream",
     "text": [
      "0\n",
      "0\n",
      "0\n",
      "0\n",
      "0\n",
      "0\n",
      "0\n",
      "0\n",
      "0\n",
      "0\n",
      "0\n",
      "0\n"
     ]
    }
   ],
   "source": [
    "raw_dict = defaultdict(dict)\n",
    "\n",
    "for country in countries:\n",
    "    \n",
    "    country_base_path = Path(f\"{gowinda_output_path}{country}\")\n",
    "        \n",
    "    in_paths = country_base_path.glob('./*99_pct_*_buffer.121322.txt')\n",
    "        \n",
    "    for in_path in in_paths:\n",
    "        \n",
    "        buffer = re.sub(\".121322\", \"\", in_path.stem).split(\"_pct_\")[1]\n",
    "        \n",
    "        in_table = pd.read_table(in_path, header=None, \n",
    "                                 names = [\"GO_term\", \"n_genes_per_sim\", \"n_genes_in_input\", \n",
    "                                          \"p-value\", \"q-value\", \"n_genes_in_input_unique\", \n",
    "                                          \"n_genes_with_site\", \"n_genes_per_term\", \n",
    "                                          \"description\", \"genes\"])\n",
    "        \n",
    "        in_table[\"country\"] = country\n",
    "        \n",
    "        in_table[\"buffer\"] = buffer\n",
    "        \n",
    "        print(np.sum(in_table[\"n_genes_in_input\"] != in_table[\"n_genes_in_input_unique\"]))\n",
    "        \n",
    "        raw_dict[country][buffer] = in_table"
   ]
  },
  {
   "cell_type": "markdown",
   "metadata": {},
   "source": [
    "##### narrow to GO terms with a q-value equal to or less than 0.05 in any country"
   ]
  },
  {
   "cell_type": "code",
   "execution_count": 5,
   "metadata": {},
   "outputs": [
    {
     "name": "stderr",
     "output_type": "stream",
     "text": [
      "<ipython-input-5-78ec0bdb3686>:9: SettingWithCopyWarning: \n",
      "A value is trying to be set on a copy of a slice from a DataFrame.\n",
      "Try using .loc[row_indexer,col_indexer] = value instead\n",
      "\n",
      "See the caveats in the documentation: https://pandas.pydata.org/pandas-docs/stable/user_guide/indexing.html#returning-a-view-versus-a-copy\n",
      "  df[\"description\"] = df[\"description\"].astype(str)\n",
      "<ipython-input-5-78ec0bdb3686>:9: SettingWithCopyWarning: \n",
      "A value is trying to be set on a copy of a slice from a DataFrame.\n",
      "Try using .loc[row_indexer,col_indexer] = value instead\n",
      "\n",
      "See the caveats in the documentation: https://pandas.pydata.org/pandas-docs/stable/user_guide/indexing.html#returning-a-view-versus-a-copy\n",
      "  df[\"description\"] = df[\"description\"].astype(str)\n",
      "<ipython-input-5-78ec0bdb3686>:9: SettingWithCopyWarning: \n",
      "A value is trying to be set on a copy of a slice from a DataFrame.\n",
      "Try using .loc[row_indexer,col_indexer] = value instead\n",
      "\n",
      "See the caveats in the documentation: https://pandas.pydata.org/pandas-docs/stable/user_guide/indexing.html#returning-a-view-versus-a-copy\n",
      "  df[\"description\"] = df[\"description\"].astype(str)\n",
      "<ipython-input-5-78ec0bdb3686>:9: SettingWithCopyWarning: \n",
      "A value is trying to be set on a copy of a slice from a DataFrame.\n",
      "Try using .loc[row_indexer,col_indexer] = value instead\n",
      "\n",
      "See the caveats in the documentation: https://pandas.pydata.org/pandas-docs/stable/user_guide/indexing.html#returning-a-view-versus-a-copy\n",
      "  df[\"description\"] = df[\"description\"].astype(str)\n",
      "<ipython-input-5-78ec0bdb3686>:9: SettingWithCopyWarning: \n",
      "A value is trying to be set on a copy of a slice from a DataFrame.\n",
      "Try using .loc[row_indexer,col_indexer] = value instead\n",
      "\n",
      "See the caveats in the documentation: https://pandas.pydata.org/pandas-docs/stable/user_guide/indexing.html#returning-a-view-versus-a-copy\n",
      "  df[\"description\"] = df[\"description\"].astype(str)\n",
      "<ipython-input-5-78ec0bdb3686>:9: SettingWithCopyWarning: \n",
      "A value is trying to be set on a copy of a slice from a DataFrame.\n",
      "Try using .loc[row_indexer,col_indexer] = value instead\n",
      "\n",
      "See the caveats in the documentation: https://pandas.pydata.org/pandas-docs/stable/user_guide/indexing.html#returning-a-view-versus-a-copy\n",
      "  df[\"description\"] = df[\"description\"].astype(str)\n",
      "<ipython-input-5-78ec0bdb3686>:9: SettingWithCopyWarning: \n",
      "A value is trying to be set on a copy of a slice from a DataFrame.\n",
      "Try using .loc[row_indexer,col_indexer] = value instead\n",
      "\n",
      "See the caveats in the documentation: https://pandas.pydata.org/pandas-docs/stable/user_guide/indexing.html#returning-a-view-versus-a-copy\n",
      "  df[\"description\"] = df[\"description\"].astype(str)\n",
      "<ipython-input-5-78ec0bdb3686>:9: SettingWithCopyWarning: \n",
      "A value is trying to be set on a copy of a slice from a DataFrame.\n",
      "Try using .loc[row_indexer,col_indexer] = value instead\n",
      "\n",
      "See the caveats in the documentation: https://pandas.pydata.org/pandas-docs/stable/user_guide/indexing.html#returning-a-view-versus-a-copy\n",
      "  df[\"description\"] = df[\"description\"].astype(str)\n",
      "<ipython-input-5-78ec0bdb3686>:9: SettingWithCopyWarning: \n",
      "A value is trying to be set on a copy of a slice from a DataFrame.\n",
      "Try using .loc[row_indexer,col_indexer] = value instead\n",
      "\n",
      "See the caveats in the documentation: https://pandas.pydata.org/pandas-docs/stable/user_guide/indexing.html#returning-a-view-versus-a-copy\n",
      "  df[\"description\"] = df[\"description\"].astype(str)\n",
      "<ipython-input-5-78ec0bdb3686>:9: SettingWithCopyWarning: \n",
      "A value is trying to be set on a copy of a slice from a DataFrame.\n",
      "Try using .loc[row_indexer,col_indexer] = value instead\n",
      "\n",
      "See the caveats in the documentation: https://pandas.pydata.org/pandas-docs/stable/user_guide/indexing.html#returning-a-view-versus-a-copy\n",
      "  df[\"description\"] = df[\"description\"].astype(str)\n",
      "<ipython-input-5-78ec0bdb3686>:9: SettingWithCopyWarning: \n",
      "A value is trying to be set on a copy of a slice from a DataFrame.\n",
      "Try using .loc[row_indexer,col_indexer] = value instead\n",
      "\n",
      "See the caveats in the documentation: https://pandas.pydata.org/pandas-docs/stable/user_guide/indexing.html#returning-a-view-versus-a-copy\n",
      "  df[\"description\"] = df[\"description\"].astype(str)\n",
      "<ipython-input-5-78ec0bdb3686>:9: SettingWithCopyWarning: \n",
      "A value is trying to be set on a copy of a slice from a DataFrame.\n",
      "Try using .loc[row_indexer,col_indexer] = value instead\n",
      "\n",
      "See the caveats in the documentation: https://pandas.pydata.org/pandas-docs/stable/user_guide/indexing.html#returning-a-view-versus-a-copy\n",
      "  df[\"description\"] = df[\"description\"].astype(str)\n"
     ]
    }
   ],
   "source": [
    "trimmed_dict = defaultdict(dict)\n",
    "\n",
    "for country in raw_dict.keys():\n",
    "    \n",
    "    for buffer, df in raw_dict[country].items():\n",
    "            \n",
    "        df = df.loc[(df[\"q-value\"] <= 0.05)]\n",
    "\n",
    "        df[\"description\"] = df[\"description\"].astype(str)\n",
    "\n",
    "        trimmed_dict[country][buffer] = df[[\"GO_term\",\"description\",\"buffer\"]]"
   ]
  },
  {
   "cell_type": "markdown",
   "metadata": {},
   "source": [
    "##### get the list of all GO terms enriched in any country, with or without the buffer"
   ]
  },
  {
   "cell_type": "code",
   "execution_count": 6,
   "metadata": {},
   "outputs": [
    {
     "data": {
      "text/plain": [
       "array(['DNA binding', 'DNA-templated transcription, initiation',\n",
       "       'Golgi transport complex', 'adenosine catabolic process',\n",
       "       'adenosine deaminase activity', 'cellular iron ion homeostasis',\n",
       "       'chromosome', 'deaminase activity',\n",
       "       'detection of chemical stimulus involved in sensory perception of smell',\n",
       "       'disulfide oxidoreductase activity', 'ferric iron binding',\n",
       "       'ferroxidase activity', 'glutathione biosynthetic process',\n",
       "       'host cell nucleus',\n",
       "       'hydrolase activity, acting on carbon-nitrogen (but not peptide) bonds, in linear amides',\n",
       "       'integral component of Golgi membrane', 'iron ion transport',\n",
       "       'mitochondrial electron transport, ubiquinol to cytochrome c',\n",
       "       'mitochondrial respiratory chain complex III',\n",
       "       'mitochondrial translation', 'nitrogen compound metabolic process',\n",
       "       'nucleosome', 'nucleosome assembly', 'nucleus', 'odorant binding',\n",
       "       'olfactory receptor activity',\n",
       "       'oxidoreductase activity, acting on paired donors, with incorporation or reduction of molecular oxygen',\n",
       "       'protein heterodimerization activity', 'regulation of cell cycle',\n",
       "       'secondary active sulfate transmembrane transporter activity',\n",
       "       'sensory perception of smell', 'sulfate transmembrane transport',\n",
       "       'sulfate transmembrane transporter activity', 'sulfate transport',\n",
       "       'transferase activity, transferring alkyl or aryl (other than methyl) groups',\n",
       "       'zinc ion binding'], dtype=object)"
      ]
     },
     "execution_count": 6,
     "metadata": {},
     "output_type": "execute_result"
    }
   ],
   "source": [
    "terms = {}\n",
    "\n",
    "for buffer in [\"1_kb_buffer\", \"no_buffer\"]:\n",
    "    \n",
    "    terms[buffer] = \\\n",
    "    np.unique(\n",
    "        np.concatenate(\n",
    "            [trimmed_dict[country][buffer][\"description\"].values \\\n",
    "                for country in countries]))\n",
    "\n",
    "terms[buffer]"
   ]
  },
  {
   "cell_type": "markdown",
   "metadata": {},
   "source": [
    "##### for each enriched term, record whether it was enriched in a particular country and with or without the buffer"
   ]
  },
  {
   "cell_type": "code",
   "execution_count": 7,
   "metadata": {},
   "outputs": [
    {
     "data": {
      "text/html": [
       "<div>\n",
       "<style scoped>\n",
       "    .dataframe tbody tr th:only-of-type {\n",
       "        vertical-align: middle;\n",
       "    }\n",
       "\n",
       "    .dataframe tbody tr th {\n",
       "        vertical-align: top;\n",
       "    }\n",
       "\n",
       "    .dataframe thead th {\n",
       "        text-align: right;\n",
       "    }\n",
       "</style>\n",
       "<table border=\"1\" class=\"dataframe\">\n",
       "  <thead>\n",
       "    <tr style=\"text-align: right;\">\n",
       "      <th></th>\n",
       "      <th>Brazil</th>\n",
       "      <th>Colombia</th>\n",
       "      <th>Gabon</th>\n",
       "      <th>Kenya</th>\n",
       "      <th>Senegal</th>\n",
       "      <th>USA</th>\n",
       "    </tr>\n",
       "  </thead>\n",
       "  <tbody>\n",
       "    <tr>\n",
       "      <th>DNA binding</th>\n",
       "      <td>NaN</td>\n",
       "      <td>NaN</td>\n",
       "      <td>NaN</td>\n",
       "      <td>NaN</td>\n",
       "      <td>NaN</td>\n",
       "      <td>NaN</td>\n",
       "    </tr>\n",
       "    <tr>\n",
       "      <th>DNA-templated transcription, initiation</th>\n",
       "      <td>NaN</td>\n",
       "      <td>NaN</td>\n",
       "      <td>NaN</td>\n",
       "      <td>NaN</td>\n",
       "      <td>NaN</td>\n",
       "      <td>NaN</td>\n",
       "    </tr>\n",
       "    <tr>\n",
       "      <th>Golgi transport complex</th>\n",
       "      <td>NaN</td>\n",
       "      <td>NaN</td>\n",
       "      <td>NaN</td>\n",
       "      <td>NaN</td>\n",
       "      <td>NaN</td>\n",
       "      <td>NaN</td>\n",
       "    </tr>\n",
       "    <tr>\n",
       "      <th>adenosine catabolic process</th>\n",
       "      <td>NaN</td>\n",
       "      <td>NaN</td>\n",
       "      <td>NaN</td>\n",
       "      <td>NaN</td>\n",
       "      <td>NaN</td>\n",
       "      <td>NaN</td>\n",
       "    </tr>\n",
       "    <tr>\n",
       "      <th>adenosine deaminase activity</th>\n",
       "      <td>NaN</td>\n",
       "      <td>NaN</td>\n",
       "      <td>NaN</td>\n",
       "      <td>NaN</td>\n",
       "      <td>NaN</td>\n",
       "      <td>NaN</td>\n",
       "    </tr>\n",
       "  </tbody>\n",
       "</table>\n",
       "</div>"
      ],
      "text/plain": [
       "                                         Brazil  Colombia  Gabon  Kenya  \\\n",
       "DNA binding                                 NaN       NaN    NaN    NaN   \n",
       "DNA-templated transcription, initiation     NaN       NaN    NaN    NaN   \n",
       "Golgi transport complex                     NaN       NaN    NaN    NaN   \n",
       "adenosine catabolic process                 NaN       NaN    NaN    NaN   \n",
       "adenosine deaminase activity                NaN       NaN    NaN    NaN   \n",
       "\n",
       "                                         Senegal  USA  \n",
       "DNA binding                                  NaN  NaN  \n",
       "DNA-templated transcription, initiation      NaN  NaN  \n",
       "Golgi transport complex                      NaN  NaN  \n",
       "adenosine catabolic process                  NaN  NaN  \n",
       "adenosine deaminase activity                 NaN  NaN  "
      ]
     },
     "execution_count": 7,
     "metadata": {},
     "output_type": "execute_result"
    }
   ],
   "source": [
    "terms_df_no_buffer = pd.DataFrame(index=terms[\"no_buffer\"], \n",
    "                                  columns=countries, dtype=float)\n",
    "\n",
    "terms_df_no_buffer.head()"
   ]
  },
  {
   "cell_type": "code",
   "execution_count": 8,
   "metadata": {},
   "outputs": [
    {
     "data": {
      "text/html": [
       "<div>\n",
       "<style scoped>\n",
       "    .dataframe tbody tr th:only-of-type {\n",
       "        vertical-align: middle;\n",
       "    }\n",
       "\n",
       "    .dataframe tbody tr th {\n",
       "        vertical-align: top;\n",
       "    }\n",
       "\n",
       "    .dataframe thead th {\n",
       "        text-align: right;\n",
       "    }\n",
       "</style>\n",
       "<table border=\"1\" class=\"dataframe\">\n",
       "  <thead>\n",
       "    <tr style=\"text-align: right;\">\n",
       "      <th></th>\n",
       "      <th>Brazil</th>\n",
       "      <th>Colombia</th>\n",
       "      <th>Gabon</th>\n",
       "      <th>Kenya</th>\n",
       "      <th>Senegal</th>\n",
       "      <th>USA</th>\n",
       "    </tr>\n",
       "  </thead>\n",
       "  <tbody>\n",
       "    <tr>\n",
       "      <th>DNA binding</th>\n",
       "      <td>NaN</td>\n",
       "      <td>NaN</td>\n",
       "      <td>NaN</td>\n",
       "      <td>NaN</td>\n",
       "      <td>NaN</td>\n",
       "      <td>NaN</td>\n",
       "    </tr>\n",
       "    <tr>\n",
       "      <th>DNA-templated transcription, initiation</th>\n",
       "      <td>NaN</td>\n",
       "      <td>NaN</td>\n",
       "      <td>NaN</td>\n",
       "      <td>NaN</td>\n",
       "      <td>NaN</td>\n",
       "      <td>NaN</td>\n",
       "    </tr>\n",
       "    <tr>\n",
       "      <th>Golgi transport complex</th>\n",
       "      <td>NaN</td>\n",
       "      <td>NaN</td>\n",
       "      <td>NaN</td>\n",
       "      <td>NaN</td>\n",
       "      <td>NaN</td>\n",
       "      <td>NaN</td>\n",
       "    </tr>\n",
       "    <tr>\n",
       "      <th>adenosine catabolic process</th>\n",
       "      <td>NaN</td>\n",
       "      <td>NaN</td>\n",
       "      <td>NaN</td>\n",
       "      <td>NaN</td>\n",
       "      <td>NaN</td>\n",
       "      <td>NaN</td>\n",
       "    </tr>\n",
       "    <tr>\n",
       "      <th>adenosine deaminase activity</th>\n",
       "      <td>NaN</td>\n",
       "      <td>NaN</td>\n",
       "      <td>NaN</td>\n",
       "      <td>NaN</td>\n",
       "      <td>NaN</td>\n",
       "      <td>NaN</td>\n",
       "    </tr>\n",
       "  </tbody>\n",
       "</table>\n",
       "</div>"
      ],
      "text/plain": [
       "                                         Brazil  Colombia  Gabon  Kenya  \\\n",
       "DNA binding                                 NaN       NaN    NaN    NaN   \n",
       "DNA-templated transcription, initiation     NaN       NaN    NaN    NaN   \n",
       "Golgi transport complex                     NaN       NaN    NaN    NaN   \n",
       "adenosine catabolic process                 NaN       NaN    NaN    NaN   \n",
       "adenosine deaminase activity                NaN       NaN    NaN    NaN   \n",
       "\n",
       "                                         Senegal  USA  \n",
       "DNA binding                                  NaN  NaN  \n",
       "DNA-templated transcription, initiation      NaN  NaN  \n",
       "Golgi transport complex                      NaN  NaN  \n",
       "adenosine catabolic process                  NaN  NaN  \n",
       "adenosine deaminase activity                 NaN  NaN  "
      ]
     },
     "execution_count": 8,
     "metadata": {},
     "output_type": "execute_result"
    }
   ],
   "source": [
    "terms_df_buffer = pd.DataFrame(index=terms[\"1_kb_buffer\"], \n",
    "                                  columns=countries, dtype=float)\n",
    "\n",
    "terms_df_buffer.head()"
   ]
  },
  {
   "cell_type": "code",
   "execution_count": 9,
   "metadata": {},
   "outputs": [],
   "source": [
    "for country in countries:\n",
    "        \n",
    "    country_list = trimmed_dict[country][\"1_kb_buffer\"]\\\n",
    "    [\"description\"].values\n",
    "    \n",
    "    for term in terms[\"1_kb_buffer\"]:\n",
    "        \n",
    "        terms_df_buffer.loc[term, country] = \\\n",
    "        np.float(np.sum(term in country_list))\n",
    "\n",
    "    country_list = trimmed_dict[country][\"no_buffer\"]\\\n",
    "    [\"description\"].values\n",
    "    \n",
    "    for term in terms[\"no_buffer\"]:\n",
    "        \n",
    "        terms_df_no_buffer.loc[term, country] = \\\n",
    "        np.float(np.sum(term in country_list))"
   ]
  },
  {
   "cell_type": "code",
   "execution_count": 10,
   "metadata": {},
   "outputs": [
    {
     "data": {
      "text/html": [
       "<div>\n",
       "<style scoped>\n",
       "    .dataframe tbody tr th:only-of-type {\n",
       "        vertical-align: middle;\n",
       "    }\n",
       "\n",
       "    .dataframe tbody tr th {\n",
       "        vertical-align: top;\n",
       "    }\n",
       "\n",
       "    .dataframe thead th {\n",
       "        text-align: right;\n",
       "    }\n",
       "</style>\n",
       "<table border=\"1\" class=\"dataframe\">\n",
       "  <thead>\n",
       "    <tr style=\"text-align: right;\">\n",
       "      <th></th>\n",
       "      <th>Brazil</th>\n",
       "      <th>Colombia</th>\n",
       "      <th>Gabon</th>\n",
       "      <th>Kenya</th>\n",
       "      <th>Senegal</th>\n",
       "      <th>USA</th>\n",
       "    </tr>\n",
       "  </thead>\n",
       "  <tbody>\n",
       "    <tr>\n",
       "      <th>DNA binding</th>\n",
       "      <td>0.0</td>\n",
       "      <td>1.0</td>\n",
       "      <td>1.0</td>\n",
       "      <td>1.0</td>\n",
       "      <td>0.0</td>\n",
       "      <td>0.0</td>\n",
       "    </tr>\n",
       "    <tr>\n",
       "      <th>DNA-templated transcription, initiation</th>\n",
       "      <td>0.0</td>\n",
       "      <td>1.0</td>\n",
       "      <td>1.0</td>\n",
       "      <td>1.0</td>\n",
       "      <td>0.0</td>\n",
       "      <td>0.0</td>\n",
       "    </tr>\n",
       "    <tr>\n",
       "      <th>Golgi transport complex</th>\n",
       "      <td>0.0</td>\n",
       "      <td>0.0</td>\n",
       "      <td>1.0</td>\n",
       "      <td>1.0</td>\n",
       "      <td>0.0</td>\n",
       "      <td>0.0</td>\n",
       "    </tr>\n",
       "    <tr>\n",
       "      <th>adenosine catabolic process</th>\n",
       "      <td>0.0</td>\n",
       "      <td>0.0</td>\n",
       "      <td>0.0</td>\n",
       "      <td>0.0</td>\n",
       "      <td>1.0</td>\n",
       "      <td>1.0</td>\n",
       "    </tr>\n",
       "    <tr>\n",
       "      <th>adenosine deaminase activity</th>\n",
       "      <td>0.0</td>\n",
       "      <td>0.0</td>\n",
       "      <td>0.0</td>\n",
       "      <td>0.0</td>\n",
       "      <td>0.0</td>\n",
       "      <td>1.0</td>\n",
       "    </tr>\n",
       "  </tbody>\n",
       "</table>\n",
       "</div>"
      ],
      "text/plain": [
       "                                         Brazil  Colombia  Gabon  Kenya  \\\n",
       "DNA binding                                 0.0       1.0    1.0    1.0   \n",
       "DNA-templated transcription, initiation     0.0       1.0    1.0    1.0   \n",
       "Golgi transport complex                     0.0       0.0    1.0    1.0   \n",
       "adenosine catabolic process                 0.0       0.0    0.0    0.0   \n",
       "adenosine deaminase activity                0.0       0.0    0.0    0.0   \n",
       "\n",
       "                                         Senegal  USA  \n",
       "DNA binding                                  0.0  0.0  \n",
       "DNA-templated transcription, initiation      0.0  0.0  \n",
       "Golgi transport complex                      0.0  0.0  \n",
       "adenosine catabolic process                  1.0  1.0  \n",
       "adenosine deaminase activity                 0.0  1.0  "
      ]
     },
     "execution_count": 10,
     "metadata": {},
     "output_type": "execute_result"
    }
   ],
   "source": [
    "terms_df_buffer.head()"
   ]
  },
  {
   "cell_type": "code",
   "execution_count": 11,
   "metadata": {},
   "outputs": [
    {
     "data": {
      "text/html": [
       "<div>\n",
       "<style scoped>\n",
       "    .dataframe tbody tr th:only-of-type {\n",
       "        vertical-align: middle;\n",
       "    }\n",
       "\n",
       "    .dataframe tbody tr th {\n",
       "        vertical-align: top;\n",
       "    }\n",
       "\n",
       "    .dataframe thead th {\n",
       "        text-align: right;\n",
       "    }\n",
       "</style>\n",
       "<table border=\"1\" class=\"dataframe\">\n",
       "  <thead>\n",
       "    <tr style=\"text-align: right;\">\n",
       "      <th></th>\n",
       "      <th>Brazil</th>\n",
       "      <th>Colombia</th>\n",
       "      <th>Gabon</th>\n",
       "      <th>Kenya</th>\n",
       "      <th>Senegal</th>\n",
       "      <th>USA</th>\n",
       "    </tr>\n",
       "  </thead>\n",
       "  <tbody>\n",
       "    <tr>\n",
       "      <th>DNA binding</th>\n",
       "      <td>0.0</td>\n",
       "      <td>1.0</td>\n",
       "      <td>1.0</td>\n",
       "      <td>1.0</td>\n",
       "      <td>0.0</td>\n",
       "      <td>0.0</td>\n",
       "    </tr>\n",
       "    <tr>\n",
       "      <th>DNA-templated transcription, initiation</th>\n",
       "      <td>0.0</td>\n",
       "      <td>1.0</td>\n",
       "      <td>1.0</td>\n",
       "      <td>1.0</td>\n",
       "      <td>0.0</td>\n",
       "      <td>0.0</td>\n",
       "    </tr>\n",
       "    <tr>\n",
       "      <th>Golgi transport complex</th>\n",
       "      <td>0.0</td>\n",
       "      <td>0.0</td>\n",
       "      <td>1.0</td>\n",
       "      <td>1.0</td>\n",
       "      <td>0.0</td>\n",
       "      <td>0.0</td>\n",
       "    </tr>\n",
       "    <tr>\n",
       "      <th>adenosine catabolic process</th>\n",
       "      <td>0.0</td>\n",
       "      <td>0.0</td>\n",
       "      <td>0.0</td>\n",
       "      <td>0.0</td>\n",
       "      <td>1.0</td>\n",
       "      <td>1.0</td>\n",
       "    </tr>\n",
       "    <tr>\n",
       "      <th>adenosine deaminase activity</th>\n",
       "      <td>0.0</td>\n",
       "      <td>0.0</td>\n",
       "      <td>0.0</td>\n",
       "      <td>0.0</td>\n",
       "      <td>0.0</td>\n",
       "      <td>1.0</td>\n",
       "    </tr>\n",
       "  </tbody>\n",
       "</table>\n",
       "</div>"
      ],
      "text/plain": [
       "                                         Brazil  Colombia  Gabon  Kenya  \\\n",
       "DNA binding                                 0.0       1.0    1.0    1.0   \n",
       "DNA-templated transcription, initiation     0.0       1.0    1.0    1.0   \n",
       "Golgi transport complex                     0.0       0.0    1.0    1.0   \n",
       "adenosine catabolic process                 0.0       0.0    0.0    0.0   \n",
       "adenosine deaminase activity                0.0       0.0    0.0    0.0   \n",
       "\n",
       "                                         Senegal  USA  \n",
       "DNA binding                                  0.0  0.0  \n",
       "DNA-templated transcription, initiation      0.0  0.0  \n",
       "Golgi transport complex                      0.0  0.0  \n",
       "adenosine catabolic process                  1.0  1.0  \n",
       "adenosine deaminase activity                 0.0  1.0  "
      ]
     },
     "execution_count": 11,
     "metadata": {},
     "output_type": "execute_result"
    }
   ],
   "source": [
    "terms_df_no_buffer.head()"
   ]
  },
  {
   "cell_type": "markdown",
   "metadata": {},
   "source": [
    "##### plot these binary values as a heatmap"
   ]
  },
  {
   "cell_type": "code",
   "execution_count": 12,
   "metadata": {},
   "outputs": [],
   "source": [
    "labels = [\"Brazil\", \"\\nColombia\", \"USA\", \n",
    "          \"\\nGabon\", \"Kenya\", \"\\nSenegal\"]"
   ]
  },
  {
   "cell_type": "code",
   "execution_count": 13,
   "metadata": {},
   "outputs": [
    {
     "data": {
      "text/plain": [
       "'/overflow/dschridelab/users/rrlove/aedes/results/popgen/gowinda_out_plot.020923.pdf'"
      ]
     },
     "execution_count": 13,
     "metadata": {},
     "output_type": "execute_result"
    }
   ],
   "source": [
    "outString = ingenos.make_date_stamp(\n",
    "    results_path + \"popgen/gowinda_out_plot\", \".pdf\")\n",
    "\n",
    "outString"
   ]
  },
  {
   "cell_type": "code",
   "execution_count": 14,
   "metadata": {},
   "outputs": [
    {
     "data": {
      "image/png": "[encoded data removed]",
      "text/plain": [
       "<Figure size 1440x720 with 2 Axes>"
      ]
     },
     "metadata": {
      "needs_background": "light"
     },
     "output_type": "display_data"
    }
   ],
   "source": [
    "fig, axes = plt.subplots(nrows=1, ncols=2, figsize=(20,10))\n",
    "\n",
    "sns.heatmap(terms_df_no_buffer, vmin=0, vmax=1, ax=axes[0],\n",
    "            xticklabels=labels, yticklabels=True,\n",
    "            cbar=False, cmap=sns.light_palette(\"black\", as_cmap=True))\n",
    "\n",
    "sns.heatmap(terms_df_buffer, vmin=0, vmax=1, ax=axes[1],\n",
    "            xticklabels=labels, yticklabels=True,\n",
    "            cbar=False, cmap=sns.light_palette(\"black\", as_cmap=True))\n",
    "\n",
    "for ax in axes:\n",
    "    ax.set_xticklabels(ax.get_xticklabels(), fontsize=15)\n",
    "    \n",
    "axes[0].set_title(\"Genes only, no buffer\", fontsize=15)\n",
    "axes[1].set_title(\"Genes with 1 kb buffer\", fontsize=15)\n",
    "\n",
    "plt.tight_layout()\n",
    "\n",
    "#plt.savefig(outString, bbox_inches=\"tight\")"
   ]
  }
 ],
 "metadata": {
  "kernelspec": {
   "display_name": "rrlove",
   "language": "python",
   "name": "rrlove"
  },
  "language_info": {
   "codemirror_mode": {
    "name": "ipython",
    "version": 3
   },
   "file_extension": ".py",
   "mimetype": "text/x-python",
   "name": "python",
   "nbconvert_exporter": "python",
   "pygments_lexer": "ipython3",
   "version": "3.8.5"
  }
 },
 "nbformat": 4,
 "nbformat_minor": 4
}
